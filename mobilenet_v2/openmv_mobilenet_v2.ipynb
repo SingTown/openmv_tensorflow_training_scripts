{
  "cells": [
    {
      "cell_type": "markdown",
      "metadata": {
        "id": "view-in-github",
        "colab_type": "text"
      },
      "source": [
        "<a href=\"https://colab.research.google.com/github/SingTown/openmv_tensorflow_training_scripts/blob/main/mobilenet_v2/openmv_mobilenet_v2.ipynb\" target=\"_parent\"><img src=\"https://colab.research.google.com/assets/colab-badge.svg\" alt=\"Open In Colab\"/></a>"
      ]
    },
    {
      "cell_type": "markdown",
      "metadata": {
        "id": "d6CEOrWoWLG8"
      },
      "source": [
        "# Train MobilenetV2 and Save to OpenMV\n",
        "\n",
        "This Code is for TensorFlow 2 and Keras 3"
      ]
    },
    {
      "cell_type": "markdown",
      "metadata": {
        "id": "zgYMJFPRWGI5"
      },
      "source": [
        "## Download Cats vs Dogs dataset from github\n"
      ]
    },
    {
      "cell_type": "code",
      "execution_count": 1,
      "metadata": {
        "colab": {
          "base_uri": "https://localhost:8080/"
        },
        "id": "xFwlZAzEWaLR",
        "outputId": "e6959956-558a-4dcc-cf66-e4cfe791ae02"
      },
      "outputs": [
        {
          "output_type": "stream",
          "name": "stdout",
          "text": [
            "fatal: destination path 'cat_dog' already exists and is not an empty directory.\n"
          ]
        }
      ],
      "source": [
        "!git clone --branch master --depth=1 https://github.com/haritha91/Cats-Dogs-Classifier---Keras.git cat_dog"
      ]
    },
    {
      "cell_type": "code",
      "execution_count": 2,
      "metadata": {
        "id": "W4gluAgGWfbP"
      },
      "outputs": [],
      "source": [
        "import tensorflow as tf\n",
        "import numpy as np\n",
        "import keras\n",
        "import os\n",
        "from keras import layers\n",
        "from tensorflow import data as tf_data\n",
        "from tensorflow import lite\n",
        "\n",
        "CLASS_NUM = 2 # dog and cat\n",
        "INPUT_SIZE = 224 #image size is 224 * 224 *3\n",
        "LABELS = [\"cats\", \"dogs\"]"
      ]
    },
    {
      "cell_type": "markdown",
      "source": [
        "# Clean image"
      ],
      "metadata": {
        "id": "rVuzC35ecsg-"
      }
    },
    {
      "cell_type": "code",
      "source": [
        "image_extensions = ['.jpg', '.jpeg', '.png', '.gif', '.bmp', '.tiff']\n",
        "def image_clean(directory):\n",
        "    for dirpath, _, filenames in os.walk(directory):\n",
        "        for filename in filenames:\n",
        "            file_path = os.path.join(dirpath, filename)\n",
        "            _, ext = os.path.splitext(filename)\n",
        "            if ext.lower() not in image_extensions:\n",
        "                os.remove(file_path)\n",
        "                print(f\"Deleted: {file_path}\")\n",
        "\n",
        "image_clean('cat_dog/dataset/training_set')\n",
        "image_clean('cat_dog/dataset/test_set')"
      ],
      "metadata": {
        "id": "ODJKXolncq9f"
      },
      "execution_count": 3,
      "outputs": []
    },
    {
      "cell_type": "markdown",
      "source": [
        "## Load dataset"
      ],
      "metadata": {
        "id": "BsDiafZphEZ-"
      }
    },
    {
      "cell_type": "code",
      "execution_count": 4,
      "metadata": {
        "id": "I9LKDHKgWhAB"
      },
      "outputs": [],
      "source": [
        "data_augmentation_layers = [\n",
        "    layers.RandomFlip(\"horizontal\"),\n",
        "    layers.RandomRotation(0.1),\n",
        "    layers.RandomZoom(0.1),\n",
        "    layers.RandomContrast(0.1),\n",
        "]\n",
        "\n",
        "def data_augmentation(images):\n",
        "    for layer in data_augmentation_layers:\n",
        "        images = layer(images)\n",
        "    return images\n",
        "\n",
        "def load_training_data():\n",
        "    train_ds, val_ds = keras.utils.image_dataset_from_directory(\n",
        "        \"cat_dog/dataset/training_set\",\n",
        "        validation_split=0.2,\n",
        "        subset=\"both\",\n",
        "        seed=1337,\n",
        "        shuffle=True,\n",
        "        image_size=(INPUT_SIZE, INPUT_SIZE),\n",
        "        batch_size=32,\n",
        "        label_mode=\"categorical\",\n",
        "        class_names=LABELS,\n",
        "    )\n",
        "    train_ds = train_ds.map(\n",
        "        lambda img, label: (data_augmentation(img)/127.5 - 1, label),\n",
        "        num_parallel_calls=tf_data.AUTOTUNE,\n",
        "    )\n",
        "    val_ds = val_ds.map(\n",
        "        lambda img, label: (img/127.5 - 1, label),\n",
        "        num_parallel_calls=tf_data.AUTOTUNE,\n",
        "    )\n",
        "\n",
        "    # Prefetching samples in GPU memory helps maximize GPU utilization.\n",
        "    train_ds = train_ds.prefetch(tf_data.AUTOTUNE)\n",
        "    val_ds = val_ds.prefetch(tf_data.AUTOTUNE)\n",
        "    return train_ds, val_ds"
      ]
    },
    {
      "cell_type": "markdown",
      "metadata": {
        "id": "7xc0UswWW2CI"
      },
      "source": [
        "## Define Model\n",
        "\n",
        "alpha=0.35 for lower size"
      ]
    },
    {
      "cell_type": "code",
      "execution_count": 5,
      "metadata": {
        "id": "6oCUM3g9W4Zo"
      },
      "outputs": [],
      "source": [
        "def build_model():\n",
        "    input_shape = (INPUT_SIZE, INPUT_SIZE, 3)\n",
        "    inputs = layers.Input(shape=input_shape)\n",
        "\n",
        "    model = keras.applications.MobileNetV2(\n",
        "        alpha=0.35,\n",
        "        include_top=False,\n",
        "        input_shape=input_shape,\n",
        "        input_tensor=inputs,\n",
        "    )\n",
        "    # Freeze the pretrained weights\n",
        "    model.trainable = False\n",
        "\n",
        "    # Rebuild top\n",
        "    x = layers.GlobalAveragePooling2D(name=\"avg_pool\")(model.output)\n",
        "    x = layers.BatchNormalization()(x)\n",
        "\n",
        "    x = layers.Dropout(0.1, name=\"top_dropout\")(x)\n",
        "    outputs = layers.Dense(len(LABELS), activation=\"softmax\", name=\"pred\")(x)\n",
        "\n",
        "    # Compile\n",
        "    model = keras.Model(inputs, outputs, name=\"MobileNetV2\")\n",
        "    optimizer = keras.optimizers.Adam(learning_rate=0.001)\n",
        "    model.compile(\n",
        "        optimizer=optimizer, loss=\"categorical_crossentropy\", metrics=[\"accuracy\"]\n",
        "    )\n",
        "    return model"
      ]
    },
    {
      "cell_type": "markdown",
      "metadata": {
        "id": "Xzjg_Z5_XBwW"
      },
      "source": [
        "## Train model\n",
        "After 3 epoches, accuracy is about 97%"
      ]
    },
    {
      "cell_type": "code",
      "execution_count": 6,
      "metadata": {
        "colab": {
          "base_uri": "https://localhost:8080/"
        },
        "id": "RvZ1SA0LXFKy",
        "outputId": "5efca38e-e50b-4e70-f989-d7565718335d"
      },
      "outputs": [
        {
          "output_type": "stream",
          "name": "stdout",
          "text": [
            "Found 8000 files belonging to 2 classes.\n",
            "Using 6400 files for training.\n",
            "Using 1600 files for validation.\n",
            "Epoch 1/3\n",
            "\u001b[1m200/200\u001b[0m \u001b[32m━━━━━━━━━━━━━━━━━━━━\u001b[0m\u001b[37m\u001b[0m \u001b[1m90s\u001b[0m 347ms/step - accuracy: 0.8873 - loss: 0.2684 - val_accuracy: 0.9681 - val_loss: 0.0810\n",
            "Epoch 2/3\n",
            "\u001b[1m200/200\u001b[0m \u001b[32m━━━━━━━━━━━━━━━━━━━━\u001b[0m\u001b[37m\u001b[0m \u001b[1m66s\u001b[0m 329ms/step - accuracy: 0.9350 - loss: 0.1752 - val_accuracy: 0.9719 - val_loss: 0.0686\n",
            "Epoch 3/3\n",
            "\u001b[1m200/200\u001b[0m \u001b[32m━━━━━━━━━━━━━━━━━━━━\u001b[0m\u001b[37m\u001b[0m \u001b[1m81s\u001b[0m 327ms/step - accuracy: 0.9402 - loss: 0.1597 - val_accuracy: 0.9725 - val_loss: 0.0657\n"
          ]
        },
        {
          "output_type": "execute_result",
          "data": {
            "text/plain": [
              "<keras.src.callbacks.history.History at 0x7bc04419a3d0>"
            ]
          },
          "metadata": {},
          "execution_count": 6
        }
      ],
      "source": [
        "train_ds, val_ds = load_training_data()\n",
        "model = build_model()\n",
        "model.fit(\n",
        "    train_ds,\n",
        "    epochs=3,\n",
        "    validation_data=val_ds,\n",
        ")"
      ]
    },
    {
      "cell_type": "markdown",
      "metadata": {
        "id": "LMw0ywl2XNd3"
      },
      "source": [
        "## Full Integer Quantization\n",
        "\n",
        "ref: https://www.tensorflow.org/lite/performance/post_training_quantization#full_integer_quantization"
      ]
    },
    {
      "cell_type": "code",
      "execution_count": 7,
      "metadata": {
        "colab": {
          "base_uri": "https://localhost:8080/"
        },
        "id": "TXdcxbctXkYi",
        "outputId": "e79f6177-ad55-4709-eb5e-5a44e6857128"
      },
      "outputs": [
        {
          "output_type": "stream",
          "name": "stdout",
          "text": [
            "Saved artifact at '/tmp/tmp9lx2fghb'. The following endpoints are available:\n",
            "\n",
            "* Endpoint 'serve'\n",
            "  args_0 (POSITIONAL_ONLY): TensorSpec(shape=(None, 224, 224, 3), dtype=tf.float32, name='keras_tensor')\n",
            "Output Type:\n",
            "  TensorSpec(shape=(None, 2), dtype=tf.float32, name=None)\n",
            "Captures:\n",
            "  136065714167760: TensorSpec(shape=(), dtype=tf.resource, name=None)\n",
            "  136065714169104: TensorSpec(shape=(), dtype=tf.resource, name=None)\n",
            "  136065714167952: TensorSpec(shape=(), dtype=tf.resource, name=None)\n",
            "  136065714168336: TensorSpec(shape=(), dtype=tf.resource, name=None)\n",
            "  136065714169680: TensorSpec(shape=(), dtype=tf.resource, name=None)\n",
            "  136065714168528: TensorSpec(shape=(), dtype=tf.resource, name=None)\n",
            "  136065714170640: TensorSpec(shape=(), dtype=tf.resource, name=None)\n",
            "  136065714168720: TensorSpec(shape=(), dtype=tf.resource, name=None)\n",
            "  136065714170832: TensorSpec(shape=(), dtype=tf.resource, name=None)\n",
            "  136065714170448: TensorSpec(shape=(), dtype=tf.resource, name=None)\n",
            "  136065714172944: TensorSpec(shape=(), dtype=tf.resource, name=None)\n",
            "  136065714173136: TensorSpec(shape=(), dtype=tf.resource, name=None)\n",
            "  136065714171792: TensorSpec(shape=(), dtype=tf.resource, name=None)\n",
            "  136065714173328: TensorSpec(shape=(), dtype=tf.resource, name=None)\n",
            "  136065714173712: TensorSpec(shape=(), dtype=tf.resource, name=None)\n",
            "  136065714174672: TensorSpec(shape=(), dtype=tf.resource, name=None)\n",
            "  136065708606480: TensorSpec(shape=(), dtype=tf.resource, name=None)\n",
            "  136065708606288: TensorSpec(shape=(), dtype=tf.resource, name=None)\n",
            "  136065714175632: TensorSpec(shape=(), dtype=tf.resource, name=None)\n",
            "  136065708606096: TensorSpec(shape=(), dtype=tf.resource, name=None)\n",
            "  136065708608016: TensorSpec(shape=(), dtype=tf.resource, name=None)\n",
            "  136065708607632: TensorSpec(shape=(), dtype=tf.resource, name=None)\n",
            "  136065708607248: TensorSpec(shape=(), dtype=tf.resource, name=None)\n",
            "  136065708608208: TensorSpec(shape=(), dtype=tf.resource, name=None)\n",
            "  136065708606864: TensorSpec(shape=(), dtype=tf.resource, name=None)\n",
            "  136065708610320: TensorSpec(shape=(), dtype=tf.resource, name=None)\n",
            "  136065708610704: TensorSpec(shape=(), dtype=tf.resource, name=None)\n",
            "  136065708611088: TensorSpec(shape=(), dtype=tf.resource, name=None)\n",
            "  136065708610896: TensorSpec(shape=(), dtype=tf.resource, name=None)\n",
            "  136065708605520: TensorSpec(shape=(), dtype=tf.resource, name=None)\n",
            "  136065708612240: TensorSpec(shape=(), dtype=tf.resource, name=None)\n",
            "  136065708612624: TensorSpec(shape=(), dtype=tf.resource, name=None)\n",
            "  136065708613008: TensorSpec(shape=(), dtype=tf.resource, name=None)\n",
            "  136065708612816: TensorSpec(shape=(), dtype=tf.resource, name=None)\n",
            "  136065708609168: TensorSpec(shape=(), dtype=tf.resource, name=None)\n",
            "  136065708614160: TensorSpec(shape=(), dtype=tf.resource, name=None)\n",
            "  136065708614544: TensorSpec(shape=(), dtype=tf.resource, name=None)\n",
            "  136065708614928: TensorSpec(shape=(), dtype=tf.resource, name=None)\n",
            "  136065708614736: TensorSpec(shape=(), dtype=tf.resource, name=None)\n",
            "  136065708609936: TensorSpec(shape=(), dtype=tf.resource, name=None)\n",
            "  136065708611856: TensorSpec(shape=(), dtype=tf.resource, name=None)\n",
            "  136065708616656: TensorSpec(shape=(), dtype=tf.resource, name=None)\n",
            "  136065708617040: TensorSpec(shape=(), dtype=tf.resource, name=None)\n",
            "  136065708616848: TensorSpec(shape=(), dtype=tf.resource, name=None)\n",
            "  136065708613392: TensorSpec(shape=(), dtype=tf.resource, name=None)\n",
            "  136065708615696: TensorSpec(shape=(), dtype=tf.resource, name=None)\n",
            "  136065708618768: TensorSpec(shape=(), dtype=tf.resource, name=None)\n",
            "  136065708619152: TensorSpec(shape=(), dtype=tf.resource, name=None)\n",
            "  136065708618960: TensorSpec(shape=(), dtype=tf.resource, name=None)\n",
            "  136065708616080: TensorSpec(shape=(), dtype=tf.resource, name=None)\n",
            "  136065708620304: TensorSpec(shape=(), dtype=tf.resource, name=None)\n",
            "  136065708620688: TensorSpec(shape=(), dtype=tf.resource, name=None)\n",
            "  136065708621456: TensorSpec(shape=(), dtype=tf.resource, name=None)\n",
            "  136065708620880: TensorSpec(shape=(), dtype=tf.resource, name=None)\n",
            "  136065708617808: TensorSpec(shape=(), dtype=tf.resource, name=None)\n",
            "  136065708619536: TensorSpec(shape=(), dtype=tf.resource, name=None)\n",
            "  136065708966544: TensorSpec(shape=(), dtype=tf.resource, name=None)\n",
            "  136065708967120: TensorSpec(shape=(), dtype=tf.resource, name=None)\n",
            "  136065708619920: TensorSpec(shape=(), dtype=tf.resource, name=None)\n",
            "  136065708966160: TensorSpec(shape=(), dtype=tf.resource, name=None)\n",
            "  136065708968272: TensorSpec(shape=(), dtype=tf.resource, name=None)\n",
            "  136065708968656: TensorSpec(shape=(), dtype=tf.resource, name=None)\n",
            "  136065708969040: TensorSpec(shape=(), dtype=tf.resource, name=None)\n",
            "  136065708968848: TensorSpec(shape=(), dtype=tf.resource, name=None)\n",
            "  136065708965968: TensorSpec(shape=(), dtype=tf.resource, name=None)\n",
            "  136065708970192: TensorSpec(shape=(), dtype=tf.resource, name=None)\n",
            "  136065708970576: TensorSpec(shape=(), dtype=tf.resource, name=None)\n",
            "  136065708970960: TensorSpec(shape=(), dtype=tf.resource, name=None)\n",
            "  136065708970768: TensorSpec(shape=(), dtype=tf.resource, name=None)\n",
            "  136065708966736: TensorSpec(shape=(), dtype=tf.resource, name=None)\n",
            "  136065708972112: TensorSpec(shape=(), dtype=tf.resource, name=None)\n",
            "  136065708972496: TensorSpec(shape=(), dtype=tf.resource, name=None)\n",
            "  136065708972880: TensorSpec(shape=(), dtype=tf.resource, name=None)\n",
            "  136065708972688: TensorSpec(shape=(), dtype=tf.resource, name=None)\n",
            "  136065708967888: TensorSpec(shape=(), dtype=tf.resource, name=None)\n",
            "  136065714168912: TensorSpec(shape=(), dtype=tf.resource, name=None)\n",
            "  136065708974416: TensorSpec(shape=(), dtype=tf.resource, name=None)\n",
            "  136065708974224: TensorSpec(shape=(), dtype=tf.resource, name=None)\n",
            "  136065708966352: TensorSpec(shape=(), dtype=tf.resource, name=None)\n",
            "  136065708969808: TensorSpec(shape=(), dtype=tf.resource, name=None)\n",
            "  136065708975760: TensorSpec(shape=(), dtype=tf.resource, name=None)\n",
            "  136065708976144: TensorSpec(shape=(), dtype=tf.resource, name=None)\n",
            "  136065708976528: TensorSpec(shape=(), dtype=tf.resource, name=None)\n",
            "  136065708976336: TensorSpec(shape=(), dtype=tf.resource, name=None)\n",
            "  136065708974032: TensorSpec(shape=(), dtype=tf.resource, name=None)\n",
            "  136065708977680: TensorSpec(shape=(), dtype=tf.resource, name=None)\n",
            "  136065708978064: TensorSpec(shape=(), dtype=tf.resource, name=None)\n",
            "  136065708978448: TensorSpec(shape=(), dtype=tf.resource, name=None)\n",
            "  136065708978256: TensorSpec(shape=(), dtype=tf.resource, name=None)\n",
            "  136065708973648: TensorSpec(shape=(), dtype=tf.resource, name=None)\n",
            "  136065708979600: TensorSpec(shape=(), dtype=tf.resource, name=None)\n",
            "  136065708979984: TensorSpec(shape=(), dtype=tf.resource, name=None)\n",
            "  136065708980368: TensorSpec(shape=(), dtype=tf.resource, name=None)\n",
            "  136065708980176: TensorSpec(shape=(), dtype=tf.resource, name=None)\n",
            "  136065708976912: TensorSpec(shape=(), dtype=tf.resource, name=None)\n",
            "  136065708981520: TensorSpec(shape=(), dtype=tf.resource, name=None)\n",
            "  136065708982096: TensorSpec(shape=(), dtype=tf.resource, name=None)\n",
            "  136065708980752: TensorSpec(shape=(), dtype=tf.resource, name=None)\n",
            "  136065708981904: TensorSpec(shape=(), dtype=tf.resource, name=None)\n",
            "  136065708979216: TensorSpec(shape=(), dtype=tf.resource, name=None)\n",
            "  136065707262224: TensorSpec(shape=(), dtype=tf.resource, name=None)\n",
            "  136065707263760: TensorSpec(shape=(), dtype=tf.resource, name=None)\n",
            "  136065707264144: TensorSpec(shape=(), dtype=tf.resource, name=None)\n",
            "  136065707263952: TensorSpec(shape=(), dtype=tf.resource, name=None)\n",
            "  136065707262608: TensorSpec(shape=(), dtype=tf.resource, name=None)\n",
            "  136065707265296: TensorSpec(shape=(), dtype=tf.resource, name=None)\n",
            "  136065707265680: TensorSpec(shape=(), dtype=tf.resource, name=None)\n",
            "  136065707266064: TensorSpec(shape=(), dtype=tf.resource, name=None)\n",
            "  136065707265872: TensorSpec(shape=(), dtype=tf.resource, name=None)\n",
            "  136065707263184: TensorSpec(shape=(), dtype=tf.resource, name=None)\n",
            "  136065707267216: TensorSpec(shape=(), dtype=tf.resource, name=None)\n",
            "  136065707267600: TensorSpec(shape=(), dtype=tf.resource, name=None)\n",
            "  136065707267984: TensorSpec(shape=(), dtype=tf.resource, name=None)\n",
            "  136065707267792: TensorSpec(shape=(), dtype=tf.resource, name=None)\n",
            "  136065707263376: TensorSpec(shape=(), dtype=tf.resource, name=None)\n",
            "  136065707269136: TensorSpec(shape=(), dtype=tf.resource, name=None)\n",
            "  136065707269520: TensorSpec(shape=(), dtype=tf.resource, name=None)\n",
            "  136065707269904: TensorSpec(shape=(), dtype=tf.resource, name=None)\n",
            "  136065707269712: TensorSpec(shape=(), dtype=tf.resource, name=None)\n",
            "  136065707264912: TensorSpec(shape=(), dtype=tf.resource, name=None)\n",
            "  136065707271056: TensorSpec(shape=(), dtype=tf.resource, name=None)\n",
            "  136065707271440: TensorSpec(shape=(), dtype=tf.resource, name=None)\n",
            "  136065707271824: TensorSpec(shape=(), dtype=tf.resource, name=None)\n",
            "  136065707271632: TensorSpec(shape=(), dtype=tf.resource, name=None)\n",
            "  136065707266832: TensorSpec(shape=(), dtype=tf.resource, name=None)\n",
            "  136065707272976: TensorSpec(shape=(), dtype=tf.resource, name=None)\n",
            "  136065707273360: TensorSpec(shape=(), dtype=tf.resource, name=None)\n",
            "  136065707273744: TensorSpec(shape=(), dtype=tf.resource, name=None)\n",
            "  136065707273552: TensorSpec(shape=(), dtype=tf.resource, name=None)\n",
            "  136065707268752: TensorSpec(shape=(), dtype=tf.resource, name=None)\n",
            "  136065707274896: TensorSpec(shape=(), dtype=tf.resource, name=None)\n",
            "  136065707275280: TensorSpec(shape=(), dtype=tf.resource, name=None)\n",
            "  136065707275664: TensorSpec(shape=(), dtype=tf.resource, name=None)\n",
            "  136065707275472: TensorSpec(shape=(), dtype=tf.resource, name=None)\n",
            "  136065707270672: TensorSpec(shape=(), dtype=tf.resource, name=None)\n",
            "  136065707276816: TensorSpec(shape=(), dtype=tf.resource, name=None)\n",
            "  136065707277200: TensorSpec(shape=(), dtype=tf.resource, name=None)\n",
            "  136065707277968: TensorSpec(shape=(), dtype=tf.resource, name=None)\n",
            "  136065707277392: TensorSpec(shape=(), dtype=tf.resource, name=None)\n",
            "  136065707272592: TensorSpec(shape=(), dtype=tf.resource, name=None)\n",
            "  136065707276048: TensorSpec(shape=(), dtype=tf.resource, name=None)\n",
            "  136065707672592: TensorSpec(shape=(), dtype=tf.resource, name=None)\n",
            "  136065707671632: TensorSpec(shape=(), dtype=tf.resource, name=None)\n",
            "  136065707276432: TensorSpec(shape=(), dtype=tf.resource, name=None)\n",
            "  136065707671824: TensorSpec(shape=(), dtype=tf.resource, name=None)\n",
            "  136065707673936: TensorSpec(shape=(), dtype=tf.resource, name=None)\n",
            "  136065707674320: TensorSpec(shape=(), dtype=tf.resource, name=None)\n",
            "  136065707674704: TensorSpec(shape=(), dtype=tf.resource, name=None)\n",
            "  136065707674512: TensorSpec(shape=(), dtype=tf.resource, name=None)\n",
            "  136065707672016: TensorSpec(shape=(), dtype=tf.resource, name=None)\n",
            "  136065707675856: TensorSpec(shape=(), dtype=tf.resource, name=None)\n",
            "  136065707676240: TensorSpec(shape=(), dtype=tf.resource, name=None)\n",
            "  136065707676624: TensorSpec(shape=(), dtype=tf.resource, name=None)\n",
            "  136065707676432: TensorSpec(shape=(), dtype=tf.resource, name=None)\n",
            "  136065707672400: TensorSpec(shape=(), dtype=tf.resource, name=None)\n",
            "  136065707677776: TensorSpec(shape=(), dtype=tf.resource, name=None)\n",
            "  136065707678160: TensorSpec(shape=(), dtype=tf.resource, name=None)\n",
            "  136065707678544: TensorSpec(shape=(), dtype=tf.resource, name=None)\n",
            "  136065707678352: TensorSpec(shape=(), dtype=tf.resource, name=None)\n",
            "  136065707673552: TensorSpec(shape=(), dtype=tf.resource, name=None)\n",
            "  136065707679696: TensorSpec(shape=(), dtype=tf.resource, name=None)\n",
            "  136065707680080: TensorSpec(shape=(), dtype=tf.resource, name=None)\n",
            "  136065707680464: TensorSpec(shape=(), dtype=tf.resource, name=None)\n",
            "  136065707680272: TensorSpec(shape=(), dtype=tf.resource, name=None)\n",
            "  136065707675472: TensorSpec(shape=(), dtype=tf.resource, name=None)\n",
            "  136065707681616: TensorSpec(shape=(), dtype=tf.resource, name=None)\n",
            "  136065707682000: TensorSpec(shape=(), dtype=tf.resource, name=None)\n",
            "  136065707682384: TensorSpec(shape=(), dtype=tf.resource, name=None)\n",
            "  136065707682192: TensorSpec(shape=(), dtype=tf.resource, name=None)\n",
            "  136065707677392: TensorSpec(shape=(), dtype=tf.resource, name=None)\n",
            "  136065707683536: TensorSpec(shape=(), dtype=tf.resource, name=None)\n",
            "  136065707683920: TensorSpec(shape=(), dtype=tf.resource, name=None)\n",
            "  136065707684304: TensorSpec(shape=(), dtype=tf.resource, name=None)\n",
            "  136065707684112: TensorSpec(shape=(), dtype=tf.resource, name=None)\n",
            "  136065707679312: TensorSpec(shape=(), dtype=tf.resource, name=None)\n",
            "  136065707685456: TensorSpec(shape=(), dtype=tf.resource, name=None)\n",
            "  136065707685840: TensorSpec(shape=(), dtype=tf.resource, name=None)\n",
            "  136065707686224: TensorSpec(shape=(), dtype=tf.resource, name=None)\n",
            "  136065707686032: TensorSpec(shape=(), dtype=tf.resource, name=None)\n",
            "  136065707681232: TensorSpec(shape=(), dtype=tf.resource, name=None)\n",
            "  136065707687376: TensorSpec(shape=(), dtype=tf.resource, name=None)\n",
            "  136065707672784: TensorSpec(shape=(), dtype=tf.resource, name=None)\n",
            "  136065707687760: TensorSpec(shape=(), dtype=tf.resource, name=None)\n",
            "  136065707687568: TensorSpec(shape=(), dtype=tf.resource, name=None)\n",
            "  136065707685072: TensorSpec(shape=(), dtype=tf.resource, name=None)\n",
            "  136065705984464: TensorSpec(shape=(), dtype=tf.resource, name=None)\n",
            "  136065705985808: TensorSpec(shape=(), dtype=tf.resource, name=None)\n",
            "  136065705986192: TensorSpec(shape=(), dtype=tf.resource, name=None)\n",
            "  136065705986000: TensorSpec(shape=(), dtype=tf.resource, name=None)\n",
            "  136065705984656: TensorSpec(shape=(), dtype=tf.resource, name=None)\n",
            "  136065705987344: TensorSpec(shape=(), dtype=tf.resource, name=None)\n",
            "  136065705987728: TensorSpec(shape=(), dtype=tf.resource, name=None)\n",
            "  136065705988112: TensorSpec(shape=(), dtype=tf.resource, name=None)\n",
            "  136065705987920: TensorSpec(shape=(), dtype=tf.resource, name=None)\n",
            "  136065705985232: TensorSpec(shape=(), dtype=tf.resource, name=None)\n",
            "  136065705989264: TensorSpec(shape=(), dtype=tf.resource, name=None)\n",
            "  136065705989648: TensorSpec(shape=(), dtype=tf.resource, name=None)\n",
            "  136065705990032: TensorSpec(shape=(), dtype=tf.resource, name=None)\n",
            "  136065705989840: TensorSpec(shape=(), dtype=tf.resource, name=None)\n",
            "  136065705985424: TensorSpec(shape=(), dtype=tf.resource, name=None)\n",
            "  136065705991184: TensorSpec(shape=(), dtype=tf.resource, name=None)\n",
            "  136065705991568: TensorSpec(shape=(), dtype=tf.resource, name=None)\n",
            "  136065705991952: TensorSpec(shape=(), dtype=tf.resource, name=None)\n",
            "  136065705991760: TensorSpec(shape=(), dtype=tf.resource, name=None)\n",
            "  136065705986960: TensorSpec(shape=(), dtype=tf.resource, name=None)\n",
            "  136065705993104: TensorSpec(shape=(), dtype=tf.resource, name=None)\n",
            "  136065705993488: TensorSpec(shape=(), dtype=tf.resource, name=None)\n",
            "  136065705993872: TensorSpec(shape=(), dtype=tf.resource, name=None)\n",
            "  136065705993680: TensorSpec(shape=(), dtype=tf.resource, name=None)\n",
            "  136065705988880: TensorSpec(shape=(), dtype=tf.resource, name=None)\n",
            "  136065705995024: TensorSpec(shape=(), dtype=tf.resource, name=None)\n",
            "  136065705995408: TensorSpec(shape=(), dtype=tf.resource, name=None)\n",
            "  136065705995792: TensorSpec(shape=(), dtype=tf.resource, name=None)\n",
            "  136065705995600: TensorSpec(shape=(), dtype=tf.resource, name=None)\n",
            "  136065705990800: TensorSpec(shape=(), dtype=tf.resource, name=None)\n",
            "  136065705996944: TensorSpec(shape=(), dtype=tf.resource, name=None)\n",
            "  136065705997328: TensorSpec(shape=(), dtype=tf.resource, name=None)\n",
            "  136065705997712: TensorSpec(shape=(), dtype=tf.resource, name=None)\n",
            "  136065705997520: TensorSpec(shape=(), dtype=tf.resource, name=None)\n",
            "  136065705992720: TensorSpec(shape=(), dtype=tf.resource, name=None)\n",
            "  136065705998864: TensorSpec(shape=(), dtype=tf.resource, name=None)\n",
            "  136065705999248: TensorSpec(shape=(), dtype=tf.resource, name=None)\n",
            "  136065706000016: TensorSpec(shape=(), dtype=tf.resource, name=None)\n",
            "  136065705999440: TensorSpec(shape=(), dtype=tf.resource, name=None)\n",
            "  136065705994640: TensorSpec(shape=(), dtype=tf.resource, name=None)\n",
            "  136065705998096: TensorSpec(shape=(), dtype=tf.resource, name=None)\n",
            "  136065706411024: TensorSpec(shape=(), dtype=tf.resource, name=None)\n",
            "  136065706410064: TensorSpec(shape=(), dtype=tf.resource, name=None)\n",
            "  136065705998480: TensorSpec(shape=(), dtype=tf.resource, name=None)\n",
            "  136065706410256: TensorSpec(shape=(), dtype=tf.resource, name=None)\n",
            "  136065706412368: TensorSpec(shape=(), dtype=tf.resource, name=None)\n",
            "  136065706412752: TensorSpec(shape=(), dtype=tf.resource, name=None)\n",
            "  136065706413136: TensorSpec(shape=(), dtype=tf.resource, name=None)\n",
            "  136065706412944: TensorSpec(shape=(), dtype=tf.resource, name=None)\n",
            "  136065706410448: TensorSpec(shape=(), dtype=tf.resource, name=None)\n",
            "  136065707262416: TensorSpec(shape=(), dtype=tf.resource, name=None)\n",
            "  136065706414480: TensorSpec(shape=(), dtype=tf.resource, name=None)\n",
            "  136065706414864: TensorSpec(shape=(), dtype=tf.resource, name=None)\n",
            "  136065706414672: TensorSpec(shape=(), dtype=tf.resource, name=None)\n",
            "  136065706410832: TensorSpec(shape=(), dtype=tf.resource, name=None)\n",
            "  136065706416016: TensorSpec(shape=(), dtype=tf.resource, name=None)\n",
            "  136065706416400: TensorSpec(shape=(), dtype=tf.resource, name=None)\n",
            "  136065706416784: TensorSpec(shape=(), dtype=tf.resource, name=None)\n",
            "  136065706416592: TensorSpec(shape=(), dtype=tf.resource, name=None)\n",
            "  136065706414288: TensorSpec(shape=(), dtype=tf.resource, name=None)\n",
            "  136065706417936: TensorSpec(shape=(), dtype=tf.resource, name=None)\n",
            "  136065706418320: TensorSpec(shape=(), dtype=tf.resource, name=None)\n",
            "  136065706418704: TensorSpec(shape=(), dtype=tf.resource, name=None)\n",
            "  136065706418512: TensorSpec(shape=(), dtype=tf.resource, name=None)\n",
            "  136065706411984: TensorSpec(shape=(), dtype=tf.resource, name=None)\n",
            "  136065706419856: TensorSpec(shape=(), dtype=tf.resource, name=None)\n",
            "  136065706420240: TensorSpec(shape=(), dtype=tf.resource, name=None)\n",
            "  136065706420624: TensorSpec(shape=(), dtype=tf.resource, name=None)\n",
            "  136065706420432: TensorSpec(shape=(), dtype=tf.resource, name=None)\n",
            "  136065706415632: TensorSpec(shape=(), dtype=tf.resource, name=None)\n",
            "  136065706421776: TensorSpec(shape=(), dtype=tf.resource, name=None)\n",
            "  136065706422160: TensorSpec(shape=(), dtype=tf.resource, name=None)\n",
            "  136065706422544: TensorSpec(shape=(), dtype=tf.resource, name=None)\n",
            "  136065706422352: TensorSpec(shape=(), dtype=tf.resource, name=None)\n",
            "  136065706417552: TensorSpec(shape=(), dtype=tf.resource, name=None)\n",
            "  136065706424272: TensorSpec(shape=(), dtype=tf.resource, name=None)\n",
            "  136065706413520: TensorSpec(shape=(), dtype=tf.resource, name=None)\n",
            "  136065706424080: TensorSpec(shape=(), dtype=tf.resource, name=None)\n",
            "  136065706423696: TensorSpec(shape=(), dtype=tf.resource, name=None)\n",
            "  136065706423888: TensorSpec(shape=(), dtype=tf.resource, name=None)\n",
            "  136065706426192: TensorSpec(shape=(), dtype=tf.resource, name=None)\n"
          ]
        },
        {
          "output_type": "stream",
          "name": "stderr",
          "text": [
            "/usr/local/lib/python3.11/dist-packages/tensorflow/lite/python/convert.py:997: UserWarning: Statistics for quantized inputs were expected, but not specified; continuing anyway.\n",
            "  warnings.warn(\n"
          ]
        }
      ],
      "source": [
        "def representative_dataset():\n",
        "    for label in LABELS:\n",
        "        label_folder = os.path.join('cat_dog/dataset/test_set', label)\n",
        "        for file_name in os.listdir(label_folder):\n",
        "            file_path = os.path.join(label_folder, file_name)\n",
        "            img = keras.utils.load_img(file_path, target_size=(INPUT_SIZE, INPUT_SIZE))\n",
        "            array = keras.utils.img_to_array(img)\n",
        "            yield [np.array([array/127.5-1])]\n",
        "\n",
        "# Convert the tflite.\n",
        "converter = lite.TFLiteConverter.from_keras_model(model)\n",
        "converter._experimental_disable_per_channel_quantization_for_dense_layers = True\n",
        "converter.optimizations = [lite.Optimize.DEFAULT]\n",
        "converter.representative_dataset = representative_dataset\n",
        "converter.target_spec.supported_ops = [lite.OpsSet.TFLITE_BUILTINS_INT8]\n",
        "converter.inference_input_type = tf.int8\n",
        "converter.inference_output_type = tf.int8\n",
        "tflite_quant_model = converter.convert()\n",
        "\n",
        "# Save the model.\n",
        "with open('trained.tflite', 'wb') as f:\n",
        "    f.write(tflite_quant_model)"
      ]
    },
    {
      "cell_type": "markdown",
      "metadata": {
        "id": "79I1bWyyH9cv"
      },
      "source": [
        "## Succeed\n",
        "\n",
        "Copy trained.tflite to OpenMV4 H7 Plus, run this code in OpenMV4 H7 Plus: https://github.com/SingTown/openmv_tensorflow_training_scripts/blob/main/mobilenet_v2/main.py"
      ]
    },
    {
      "cell_type": "code",
      "source": [
        "from google.colab import files\n",
        "files.download('trained.tflite')"
      ],
      "metadata": {
        "colab": {
          "base_uri": "https://localhost:8080/",
          "height": 17
        },
        "id": "sJiO53bVgNVu",
        "outputId": "5ba2373b-a559-427d-e896-5edae829a1c2"
      },
      "execution_count": 8,
      "outputs": [
        {
          "output_type": "display_data",
          "data": {
            "text/plain": [
              "<IPython.core.display.Javascript object>"
            ],
            "application/javascript": [
              "\n",
              "    async function download(id, filename, size) {\n",
              "      if (!google.colab.kernel.accessAllowed) {\n",
              "        return;\n",
              "      }\n",
              "      const div = document.createElement('div');\n",
              "      const label = document.createElement('label');\n",
              "      label.textContent = `Downloading \"${filename}\": `;\n",
              "      div.appendChild(label);\n",
              "      const progress = document.createElement('progress');\n",
              "      progress.max = size;\n",
              "      div.appendChild(progress);\n",
              "      document.body.appendChild(div);\n",
              "\n",
              "      const buffers = [];\n",
              "      let downloaded = 0;\n",
              "\n",
              "      const channel = await google.colab.kernel.comms.open(id);\n",
              "      // Send a message to notify the kernel that we're ready.\n",
              "      channel.send({})\n",
              "\n",
              "      for await (const message of channel.messages) {\n",
              "        // Send a message to notify the kernel that we're ready.\n",
              "        channel.send({})\n",
              "        if (message.buffers) {\n",
              "          for (const buffer of message.buffers) {\n",
              "            buffers.push(buffer);\n",
              "            downloaded += buffer.byteLength;\n",
              "            progress.value = downloaded;\n",
              "          }\n",
              "        }\n",
              "      }\n",
              "      const blob = new Blob(buffers, {type: 'application/binary'});\n",
              "      const a = document.createElement('a');\n",
              "      a.href = window.URL.createObjectURL(blob);\n",
              "      a.download = filename;\n",
              "      div.appendChild(a);\n",
              "      a.click();\n",
              "      div.remove();\n",
              "    }\n",
              "  "
            ]
          },
          "metadata": {}
        },
        {
          "output_type": "display_data",
          "data": {
            "text/plain": [
              "<IPython.core.display.Javascript object>"
            ],
            "application/javascript": [
              "download(\"download_75bce1ce-d69e-44e0-8116-db593fee4039\", \"trained.tflite\", 617896)"
            ]
          },
          "metadata": {}
        }
      ]
    }
  ],
  "metadata": {
    "colab": {
      "provenance": [],
      "gpuType": "T4",
      "include_colab_link": true
    },
    "kernelspec": {
      "display_name": "Python 3",
      "name": "python3"
    },
    "language_info": {
      "name": "python"
    },
    "accelerator": "GPU"
  },
  "nbformat": 4,
  "nbformat_minor": 0
}