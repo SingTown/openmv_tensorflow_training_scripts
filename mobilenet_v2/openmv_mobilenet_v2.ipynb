{
  "cells": [
    {
      "cell_type": "markdown",
      "metadata": {
        "id": "view-in-github",
        "colab_type": "text"
      },
      "source": [
        "<a href=\"https://colab.research.google.com/github/SingTown/openmv_tensorflow_training_scripts/blob/main/mobilenet_v2/openmv_mobilenet_v2.ipynb\" target=\"_parent\"><img src=\"https://colab.research.google.com/assets/colab-badge.svg\" alt=\"Open In Colab\"/></a>"
      ]
    },
    {
      "cell_type": "markdown",
      "metadata": {
        "id": "d6CEOrWoWLG8"
      },
      "source": [
        "# Train MobilenetV2 and Save to OpenMV\n",
        "\n",
        "This Code is for TensorFlow 2 and Keras 3"
      ]
    },
    {
      "cell_type": "markdown",
      "metadata": {
        "id": "zgYMJFPRWGI5"
      },
      "source": [
        "## Download Cats vs Dogs dataset from github\n"
      ]
    },
    {
      "cell_type": "code",
      "execution_count": 1,
      "metadata": {
        "colab": {
          "base_uri": "https://localhost:8080/"
        },
        "id": "xFwlZAzEWaLR",
        "outputId": "97882624-04d0-423e-fa81-967aced20d58"
      },
      "outputs": [
        {
          "output_type": "stream",
          "name": "stdout",
          "text": [
            "fatal: destination path 'cat_dog' already exists and is not an empty directory.\n"
          ]
        }
      ],
      "source": [
        "!git clone --branch master --depth=1 https://github.com/haritha91/Cats-Dogs-Classifier---Keras.git cat_dog"
      ]
    },
    {
      "cell_type": "code",
      "execution_count": 2,
      "metadata": {
        "id": "W4gluAgGWfbP"
      },
      "outputs": [],
      "source": [
        "import tensorflow as tf\n",
        "import numpy as np\n",
        "import keras\n",
        "import os\n",
        "from keras import layers\n",
        "from tensorflow import data as tf_data\n",
        "from tensorflow import lite\n",
        "\n",
        "CLASS_NUM = 2 # dog and cat\n",
        "INPUT_SIZE = 96 #image size is 96 * 96 *3\n",
        "LABELS = [\"cats\", \"dogs\"]"
      ]
    },
    {
      "cell_type": "markdown",
      "source": [
        "# Clean image"
      ],
      "metadata": {
        "id": "rVuzC35ecsg-"
      }
    },
    {
      "cell_type": "code",
      "source": [
        "image_extensions = ['.jpg', '.jpeg', '.png', '.gif', '.bmp', '.tiff']\n",
        "def image_clean(directory):\n",
        "  for dirpath, _, filenames in os.walk(directory):\n",
        "      for filename in filenames:\n",
        "          file_path = os.path.join(dirpath, filename)\n",
        "          _, ext = os.path.splitext(filename)\n",
        "          if ext.lower() not in image_extensions:\n",
        "              os.remove(file_path)\n",
        "              print(f\"Deleted: {file_path}\")\n",
        "\n",
        "image_clean('cat_dog/dataset/training_set')\n",
        "image_clean('cat_dog/dataset/test_set')"
      ],
      "metadata": {
        "id": "ODJKXolncq9f"
      },
      "execution_count": 3,
      "outputs": []
    },
    {
      "cell_type": "markdown",
      "source": [
        "## Load dataset"
      ],
      "metadata": {
        "id": "BsDiafZphEZ-"
      }
    },
    {
      "cell_type": "code",
      "execution_count": 4,
      "metadata": {
        "id": "I9LKDHKgWhAB"
      },
      "outputs": [],
      "source": [
        "data_augmentation_layers = [\n",
        "    layers.RandomFlip(\"horizontal\"),\n",
        "    layers.RandomRotation(0.1),\n",
        "    layers.RandomZoom(0.1),\n",
        "    layers.RandomContrast(0.1),\n",
        "]\n",
        "\n",
        "def data_augmentation(images):\n",
        "    for layer in data_augmentation_layers:\n",
        "        images = layer(images)\n",
        "    return images\n",
        "\n",
        "def load_training_data():\n",
        "    train_ds, val_ds = keras.utils.image_dataset_from_directory(\n",
        "        \"cat_dog/dataset/training_set\",\n",
        "        validation_split=0.2,\n",
        "        subset=\"both\",\n",
        "        seed=1337,\n",
        "        shuffle=True,\n",
        "        image_size=(INPUT_SIZE, INPUT_SIZE),\n",
        "        batch_size=32,\n",
        "        label_mode=\"categorical\",\n",
        "        class_names=LABELS,\n",
        "    )\n",
        "    train_ds = train_ds.map(\n",
        "        lambda img, label: (data_augmentation(img) / 255.0, label),\n",
        "        num_parallel_calls=tf_data.AUTOTUNE,\n",
        "    )\n",
        "    val_ds = val_ds.map(\n",
        "        lambda img, label: (img / 255.0, label),\n",
        "        num_parallel_calls=tf_data.AUTOTUNE,\n",
        "    )\n",
        "\n",
        "    # Prefetching samples in GPU memory helps maximize GPU utilization.\n",
        "    train_ds = train_ds.prefetch(tf_data.AUTOTUNE)\n",
        "    val_ds = val_ds.prefetch(tf_data.AUTOTUNE)\n",
        "    return train_ds, val_ds"
      ]
    },
    {
      "cell_type": "markdown",
      "metadata": {
        "id": "7xc0UswWW2CI"
      },
      "source": [
        "## Define Model\n",
        "\n",
        "alpha=0.35 for lower size"
      ]
    },
    {
      "cell_type": "code",
      "execution_count": 5,
      "metadata": {
        "id": "6oCUM3g9W4Zo"
      },
      "outputs": [],
      "source": [
        "def build_model():\n",
        "    input_shape = (INPUT_SIZE, INPUT_SIZE, 3)\n",
        "    inputs = layers.Input(shape=input_shape)\n",
        "\n",
        "    model = keras.applications.MobileNetV2(\n",
        "        alpha=0.35,\n",
        "        include_top=False,\n",
        "        input_shape=input_shape,\n",
        "        input_tensor=inputs,\n",
        "    )\n",
        "    # Freeze the pretrained weights\n",
        "    model.trainable = False\n",
        "\n",
        "    # Rebuild top\n",
        "    x = layers.GlobalAveragePooling2D(name=\"avg_pool\")(model.output)\n",
        "    x = layers.BatchNormalization()(x)\n",
        "\n",
        "    x = layers.Dropout(0.1, name=\"top_dropout\")(x)\n",
        "    outputs = layers.Dense(len(LABELS), activation=\"softmax\", name=\"pred\")(x)\n",
        "\n",
        "    # Compile\n",
        "    model = keras.Model(inputs, outputs, name=\"MobileNetV2\")\n",
        "    optimizer = keras.optimizers.Adam(learning_rate=0.001)\n",
        "    model.compile(\n",
        "        optimizer=optimizer, loss=\"categorical_crossentropy\", metrics=[\"accuracy\"]\n",
        "    )\n",
        "    return model"
      ]
    },
    {
      "cell_type": "markdown",
      "metadata": {
        "id": "Xzjg_Z5_XBwW"
      },
      "source": [
        "## Train model\n",
        "After 3 epoches, accuracy is about 88%"
      ]
    },
    {
      "cell_type": "code",
      "execution_count": 6,
      "metadata": {
        "colab": {
          "base_uri": "https://localhost:8080/"
        },
        "id": "RvZ1SA0LXFKy",
        "outputId": "51998a9e-28bc-4498-d926-db01054033f9"
      },
      "outputs": [
        {
          "output_type": "stream",
          "name": "stdout",
          "text": [
            "Found 8000 files belonging to 2 classes.\n",
            "Using 6400 files for training.\n",
            "Using 1600 files for validation.\n",
            "Epoch 1/3\n",
            "\u001b[1m200/200\u001b[0m \u001b[32m━━━━━━━━━━━━━━━━━━━━\u001b[0m\u001b[37m\u001b[0m \u001b[1m85s\u001b[0m 288ms/step - accuracy: 0.7492 - loss: 0.5645 - val_accuracy: 0.8794 - val_loss: 0.2800\n",
            "Epoch 2/3\n",
            "\u001b[1m200/200\u001b[0m \u001b[32m━━━━━━━━━━━━━━━━━━━━\u001b[0m\u001b[37m\u001b[0m \u001b[1m93s\u001b[0m 349ms/step - accuracy: 0.8334 - loss: 0.3869 - val_accuracy: 0.8825 - val_loss: 0.2832\n",
            "Epoch 3/3\n",
            "\u001b[1m200/200\u001b[0m \u001b[32m━━━━━━━━━━━━━━━━━━━━\u001b[0m\u001b[37m\u001b[0m \u001b[1m58s\u001b[0m 231ms/step - accuracy: 0.8425 - loss: 0.3697 - val_accuracy: 0.8813 - val_loss: 0.2860\n"
          ]
        },
        {
          "output_type": "execute_result",
          "data": {
            "text/plain": [
              "<keras.src.callbacks.history.History at 0x790998327750>"
            ]
          },
          "metadata": {},
          "execution_count": 6
        }
      ],
      "source": [
        "train_ds, val_ds = load_training_data()\n",
        "model = build_model()\n",
        "model.fit(\n",
        "    train_ds,\n",
        "    epochs=3,\n",
        "    validation_data=val_ds,\n",
        ")"
      ]
    },
    {
      "cell_type": "markdown",
      "metadata": {
        "id": "LMw0ywl2XNd3"
      },
      "source": [
        "## Full Integer Quantization\n",
        "\n",
        "ref: https://www.tensorflow.org/lite/performance/post_training_quantization#full_integer_quantization"
      ]
    },
    {
      "cell_type": "code",
      "execution_count": 7,
      "metadata": {
        "colab": {
          "base_uri": "https://localhost:8080/"
        },
        "id": "TXdcxbctXkYi",
        "outputId": "e75365e8-349c-4f5b-a8f0-07117e569358"
      },
      "outputs": [
        {
          "output_type": "stream",
          "name": "stdout",
          "text": [
            "Saved artifact at '/tmp/tmpklkfwo4t'. The following endpoints are available:\n",
            "\n",
            "* Endpoint 'serve'\n",
            "  args_0 (POSITIONAL_ONLY): TensorSpec(shape=(None, 96, 96, 3), dtype=tf.float32, name='keras_tensor')\n",
            "Output Type:\n",
            "  TensorSpec(shape=(None, 2), dtype=tf.float32, name=None)\n",
            "Captures:\n",
            "  133082119079120: TensorSpec(shape=(), dtype=tf.resource, name=None)\n",
            "  133082119080272: TensorSpec(shape=(), dtype=tf.resource, name=None)\n",
            "  133082119079312: TensorSpec(shape=(), dtype=tf.resource, name=None)\n",
            "  133082119079696: TensorSpec(shape=(), dtype=tf.resource, name=None)\n",
            "  133082119080848: TensorSpec(shape=(), dtype=tf.resource, name=None)\n",
            "  133082119079888: TensorSpec(shape=(), dtype=tf.resource, name=None)\n",
            "  133082119081808: TensorSpec(shape=(), dtype=tf.resource, name=None)\n",
            "  133082119080080: TensorSpec(shape=(), dtype=tf.resource, name=None)\n",
            "  133082119082000: TensorSpec(shape=(), dtype=tf.resource, name=None)\n",
            "  133082119081616: TensorSpec(shape=(), dtype=tf.resource, name=None)\n",
            "  133082119083344: TensorSpec(shape=(), dtype=tf.resource, name=None)\n",
            "  133082119083728: TensorSpec(shape=(), dtype=tf.resource, name=None)\n",
            "  133082119082192: TensorSpec(shape=(), dtype=tf.resource, name=None)\n",
            "  133082119084304: TensorSpec(shape=(), dtype=tf.resource, name=None)\n",
            "  133082119084688: TensorSpec(shape=(), dtype=tf.resource, name=None)\n",
            "  133082119085648: TensorSpec(shape=(), dtype=tf.resource, name=None)\n",
            "  133082119087952: TensorSpec(shape=(), dtype=tf.resource, name=None)\n",
            "  133082119086608: TensorSpec(shape=(), dtype=tf.resource, name=None)\n",
            "  133082119086992: TensorSpec(shape=(), dtype=tf.resource, name=None)\n",
            "  133082119084880: TensorSpec(shape=(), dtype=tf.resource, name=None)\n",
            "  133082119089488: TensorSpec(shape=(), dtype=tf.resource, name=None)\n",
            "  133082119089104: TensorSpec(shape=(), dtype=tf.resource, name=None)\n",
            "  133082119088720: TensorSpec(shape=(), dtype=tf.resource, name=None)\n",
            "  133082119089680: TensorSpec(shape=(), dtype=tf.resource, name=None)\n",
            "  133082119088336: TensorSpec(shape=(), dtype=tf.resource, name=None)\n",
            "  133082119091792: TensorSpec(shape=(), dtype=tf.resource, name=None)\n",
            "  133082119092176: TensorSpec(shape=(), dtype=tf.resource, name=None)\n",
            "  133082119092560: TensorSpec(shape=(), dtype=tf.resource, name=None)\n",
            "  133082119092368: TensorSpec(shape=(), dtype=tf.resource, name=None)\n",
            "  133082119087184: TensorSpec(shape=(), dtype=tf.resource, name=None)\n",
            "  133082119093712: TensorSpec(shape=(), dtype=tf.resource, name=None)\n",
            "  133082119089872: TensorSpec(shape=(), dtype=tf.resource, name=None)\n",
            "  133082119094096: TensorSpec(shape=(), dtype=tf.resource, name=None)\n",
            "  133082119093904: TensorSpec(shape=(), dtype=tf.resource, name=None)\n",
            "  133082119091408: TensorSpec(shape=(), dtype=tf.resource, name=None)\n",
            "  133082117177808: TensorSpec(shape=(), dtype=tf.resource, name=None)\n",
            "  133082117179152: TensorSpec(shape=(), dtype=tf.resource, name=None)\n",
            "  133082117179536: TensorSpec(shape=(), dtype=tf.resource, name=None)\n",
            "  133082117179344: TensorSpec(shape=(), dtype=tf.resource, name=None)\n",
            "  133082117178000: TensorSpec(shape=(), dtype=tf.resource, name=None)\n",
            "  133082117178576: TensorSpec(shape=(), dtype=tf.resource, name=None)\n",
            "  133082117181264: TensorSpec(shape=(), dtype=tf.resource, name=None)\n",
            "  133082117181648: TensorSpec(shape=(), dtype=tf.resource, name=None)\n",
            "  133082117181456: TensorSpec(shape=(), dtype=tf.resource, name=None)\n",
            "  133082117177616: TensorSpec(shape=(), dtype=tf.resource, name=None)\n",
            "  133082117180304: TensorSpec(shape=(), dtype=tf.resource, name=None)\n",
            "  133082117183376: TensorSpec(shape=(), dtype=tf.resource, name=None)\n",
            "  133082117183760: TensorSpec(shape=(), dtype=tf.resource, name=None)\n",
            "  133082117183568: TensorSpec(shape=(), dtype=tf.resource, name=None)\n",
            "  133082117180688: TensorSpec(shape=(), dtype=tf.resource, name=None)\n",
            "  133082117184912: TensorSpec(shape=(), dtype=tf.resource, name=None)\n",
            "  133082117185296: TensorSpec(shape=(), dtype=tf.resource, name=None)\n",
            "  133082117185488: TensorSpec(shape=(), dtype=tf.resource, name=None)\n",
            "  133082117185680: TensorSpec(shape=(), dtype=tf.resource, name=None)\n",
            "  133082117182416: TensorSpec(shape=(), dtype=tf.resource, name=None)\n",
            "  133082117186832: TensorSpec(shape=(), dtype=tf.resource, name=None)\n",
            "  133082117187216: TensorSpec(shape=(), dtype=tf.resource, name=None)\n",
            "  133082117187600: TensorSpec(shape=(), dtype=tf.resource, name=None)\n",
            "  133082117187408: TensorSpec(shape=(), dtype=tf.resource, name=None)\n",
            "  133082117182992: TensorSpec(shape=(), dtype=tf.resource, name=None)\n",
            "  133082117188752: TensorSpec(shape=(), dtype=tf.resource, name=None)\n",
            "  133082117189136: TensorSpec(shape=(), dtype=tf.resource, name=None)\n",
            "  133082117189520: TensorSpec(shape=(), dtype=tf.resource, name=None)\n",
            "  133082117189328: TensorSpec(shape=(), dtype=tf.resource, name=None)\n",
            "  133082117184528: TensorSpec(shape=(), dtype=tf.resource, name=None)\n",
            "  133082117190672: TensorSpec(shape=(), dtype=tf.resource, name=None)\n",
            "  133082117191056: TensorSpec(shape=(), dtype=tf.resource, name=None)\n",
            "  133082117191440: TensorSpec(shape=(), dtype=tf.resource, name=None)\n",
            "  133082117191248: TensorSpec(shape=(), dtype=tf.resource, name=None)\n",
            "  133082117186448: TensorSpec(shape=(), dtype=tf.resource, name=None)\n",
            "  133082117192592: TensorSpec(shape=(), dtype=tf.resource, name=None)\n",
            "  133082117192208: TensorSpec(shape=(), dtype=tf.resource, name=None)\n",
            "  133082117190288: TensorSpec(shape=(), dtype=tf.resource, name=None)\n",
            "  133082117193168: TensorSpec(shape=(), dtype=tf.resource, name=None)\n",
            "  133082117188368: TensorSpec(shape=(), dtype=tf.resource, name=None)\n",
            "  133082117191824: TensorSpec(shape=(), dtype=tf.resource, name=None)\n",
            "  133082117620944: TensorSpec(shape=(), dtype=tf.resource, name=None)\n",
            "  133082117619984: TensorSpec(shape=(), dtype=tf.resource, name=None)\n",
            "  133082117620752: TensorSpec(shape=(), dtype=tf.resource, name=None)\n",
            "  133082117619792: TensorSpec(shape=(), dtype=tf.resource, name=None)\n",
            "  133082117622480: TensorSpec(shape=(), dtype=tf.resource, name=None)\n",
            "  133082117622864: TensorSpec(shape=(), dtype=tf.resource, name=None)\n",
            "  133082117623248: TensorSpec(shape=(), dtype=tf.resource, name=None)\n",
            "  133082117623056: TensorSpec(shape=(), dtype=tf.resource, name=None)\n",
            "  133082117620176: TensorSpec(shape=(), dtype=tf.resource, name=None)\n",
            "  133082117624400: TensorSpec(shape=(), dtype=tf.resource, name=None)\n",
            "  133082117624784: TensorSpec(shape=(), dtype=tf.resource, name=None)\n",
            "  133082117625168: TensorSpec(shape=(), dtype=tf.resource, name=None)\n",
            "  133082117624976: TensorSpec(shape=(), dtype=tf.resource, name=None)\n",
            "  133082117621328: TensorSpec(shape=(), dtype=tf.resource, name=None)\n",
            "  133082117626320: TensorSpec(shape=(), dtype=tf.resource, name=None)\n",
            "  133082117626704: TensorSpec(shape=(), dtype=tf.resource, name=None)\n",
            "  133082117627088: TensorSpec(shape=(), dtype=tf.resource, name=None)\n",
            "  133082117626896: TensorSpec(shape=(), dtype=tf.resource, name=None)\n",
            "  133082117622096: TensorSpec(shape=(), dtype=tf.resource, name=None)\n",
            "  133082117628240: TensorSpec(shape=(), dtype=tf.resource, name=None)\n",
            "  133082117628624: TensorSpec(shape=(), dtype=tf.resource, name=None)\n",
            "  133082117629008: TensorSpec(shape=(), dtype=tf.resource, name=None)\n",
            "  133082117628816: TensorSpec(shape=(), dtype=tf.resource, name=None)\n",
            "  133082117624016: TensorSpec(shape=(), dtype=tf.resource, name=None)\n",
            "  133082117630160: TensorSpec(shape=(), dtype=tf.resource, name=None)\n",
            "  133082117630544: TensorSpec(shape=(), dtype=tf.resource, name=None)\n",
            "  133082117630928: TensorSpec(shape=(), dtype=tf.resource, name=None)\n",
            "  133082117630736: TensorSpec(shape=(), dtype=tf.resource, name=None)\n",
            "  133082117625936: TensorSpec(shape=(), dtype=tf.resource, name=None)\n",
            "  133082117632080: TensorSpec(shape=(), dtype=tf.resource, name=None)\n",
            "  133082117632464: TensorSpec(shape=(), dtype=tf.resource, name=None)\n",
            "  133082117632848: TensorSpec(shape=(), dtype=tf.resource, name=None)\n",
            "  133082117632656: TensorSpec(shape=(), dtype=tf.resource, name=None)\n",
            "  133082117627856: TensorSpec(shape=(), dtype=tf.resource, name=None)\n",
            "  133082117634000: TensorSpec(shape=(), dtype=tf.resource, name=None)\n",
            "  133082117634384: TensorSpec(shape=(), dtype=tf.resource, name=None)\n",
            "  133082117634768: TensorSpec(shape=(), dtype=tf.resource, name=None)\n",
            "  133082117634576: TensorSpec(shape=(), dtype=tf.resource, name=None)\n",
            "  133082117629776: TensorSpec(shape=(), dtype=tf.resource, name=None)\n",
            "  133082117635920: TensorSpec(shape=(), dtype=tf.resource, name=None)\n",
            "  133082117631696: TensorSpec(shape=(), dtype=tf.resource, name=None)\n",
            "  133082117963856: TensorSpec(shape=(), dtype=tf.resource, name=None)\n",
            "  133082117635536: TensorSpec(shape=(), dtype=tf.resource, name=None)\n",
            "  133082117633616: TensorSpec(shape=(), dtype=tf.resource, name=None)\n",
            "  133082117965584: TensorSpec(shape=(), dtype=tf.resource, name=None)\n",
            "  133082117965968: TensorSpec(shape=(), dtype=tf.resource, name=None)\n",
            "  133082117966352: TensorSpec(shape=(), dtype=tf.resource, name=None)\n",
            "  133082117966160: TensorSpec(shape=(), dtype=tf.resource, name=None)\n",
            "  133082117964816: TensorSpec(shape=(), dtype=tf.resource, name=None)\n",
            "  133082117967504: TensorSpec(shape=(), dtype=tf.resource, name=None)\n",
            "  133082117967888: TensorSpec(shape=(), dtype=tf.resource, name=None)\n",
            "  133082117968272: TensorSpec(shape=(), dtype=tf.resource, name=None)\n",
            "  133082117968080: TensorSpec(shape=(), dtype=tf.resource, name=None)\n",
            "  133082117964240: TensorSpec(shape=(), dtype=tf.resource, name=None)\n",
            "  133082117969424: TensorSpec(shape=(), dtype=tf.resource, name=None)\n",
            "  133082117969808: TensorSpec(shape=(), dtype=tf.resource, name=None)\n",
            "  133082117970192: TensorSpec(shape=(), dtype=tf.resource, name=None)\n",
            "  133082117970000: TensorSpec(shape=(), dtype=tf.resource, name=None)\n",
            "  133082117965200: TensorSpec(shape=(), dtype=tf.resource, name=None)\n",
            "  133082117971344: TensorSpec(shape=(), dtype=tf.resource, name=None)\n",
            "  133082117971728: TensorSpec(shape=(), dtype=tf.resource, name=None)\n",
            "  133082117972112: TensorSpec(shape=(), dtype=tf.resource, name=None)\n",
            "  133082117971920: TensorSpec(shape=(), dtype=tf.resource, name=None)\n",
            "  133082117967120: TensorSpec(shape=(), dtype=tf.resource, name=None)\n",
            "  133082117973264: TensorSpec(shape=(), dtype=tf.resource, name=None)\n",
            "  133082117973648: TensorSpec(shape=(), dtype=tf.resource, name=None)\n",
            "  133082117974032: TensorSpec(shape=(), dtype=tf.resource, name=None)\n",
            "  133082117973840: TensorSpec(shape=(), dtype=tf.resource, name=None)\n",
            "  133082117969040: TensorSpec(shape=(), dtype=tf.resource, name=None)\n",
            "  133082117975184: TensorSpec(shape=(), dtype=tf.resource, name=None)\n",
            "  133082117975568: TensorSpec(shape=(), dtype=tf.resource, name=None)\n",
            "  133082117975952: TensorSpec(shape=(), dtype=tf.resource, name=None)\n",
            "  133082117975760: TensorSpec(shape=(), dtype=tf.resource, name=None)\n",
            "  133082117970960: TensorSpec(shape=(), dtype=tf.resource, name=None)\n",
            "  133082117977104: TensorSpec(shape=(), dtype=tf.resource, name=None)\n",
            "  133082117977488: TensorSpec(shape=(), dtype=tf.resource, name=None)\n",
            "  133082117977872: TensorSpec(shape=(), dtype=tf.resource, name=None)\n",
            "  133082117974800: TensorSpec(shape=(), dtype=tf.resource, name=None)\n",
            "  133082117972880: TensorSpec(shape=(), dtype=tf.resource, name=None)\n",
            "  133082117979024: TensorSpec(shape=(), dtype=tf.resource, name=None)\n",
            "  133082117978640: TensorSpec(shape=(), dtype=tf.resource, name=None)\n",
            "  133082117976720: TensorSpec(shape=(), dtype=tf.resource, name=None)\n",
            "  133082117979600: TensorSpec(shape=(), dtype=tf.resource, name=None)\n",
            "  133082117977680: TensorSpec(shape=(), dtype=tf.resource, name=None)\n",
            "  133082117978256: TensorSpec(shape=(), dtype=tf.resource, name=None)\n",
            "  133082116310224: TensorSpec(shape=(), dtype=tf.resource, name=None)\n",
            "  133082116309264: TensorSpec(shape=(), dtype=tf.resource, name=None)\n",
            "  133082116310032: TensorSpec(shape=(), dtype=tf.resource, name=None)\n",
            "  133082116309072: TensorSpec(shape=(), dtype=tf.resource, name=None)\n",
            "  133082116311760: TensorSpec(shape=(), dtype=tf.resource, name=None)\n",
            "  133082116312144: TensorSpec(shape=(), dtype=tf.resource, name=None)\n",
            "  133082116312528: TensorSpec(shape=(), dtype=tf.resource, name=None)\n",
            "  133082116312336: TensorSpec(shape=(), dtype=tf.resource, name=None)\n",
            "  133082116309456: TensorSpec(shape=(), dtype=tf.resource, name=None)\n",
            "  133082116313680: TensorSpec(shape=(), dtype=tf.resource, name=None)\n",
            "  133082116314064: TensorSpec(shape=(), dtype=tf.resource, name=None)\n",
            "  133082116314448: TensorSpec(shape=(), dtype=tf.resource, name=None)\n",
            "  133082116314256: TensorSpec(shape=(), dtype=tf.resource, name=None)\n",
            "  133082116310608: TensorSpec(shape=(), dtype=tf.resource, name=None)\n",
            "  133082116315600: TensorSpec(shape=(), dtype=tf.resource, name=None)\n",
            "  133082116315984: TensorSpec(shape=(), dtype=tf.resource, name=None)\n",
            "  133082116316368: TensorSpec(shape=(), dtype=tf.resource, name=None)\n",
            "  133082116316176: TensorSpec(shape=(), dtype=tf.resource, name=None)\n",
            "  133082116311376: TensorSpec(shape=(), dtype=tf.resource, name=None)\n",
            "  133082116317520: TensorSpec(shape=(), dtype=tf.resource, name=None)\n",
            "  133082116317904: TensorSpec(shape=(), dtype=tf.resource, name=None)\n",
            "  133082116318288: TensorSpec(shape=(), dtype=tf.resource, name=None)\n",
            "  133082116318096: TensorSpec(shape=(), dtype=tf.resource, name=None)\n",
            "  133082116313296: TensorSpec(shape=(), dtype=tf.resource, name=None)\n",
            "  133082116319440: TensorSpec(shape=(), dtype=tf.resource, name=None)\n",
            "  133082116319824: TensorSpec(shape=(), dtype=tf.resource, name=None)\n",
            "  133082116320208: TensorSpec(shape=(), dtype=tf.resource, name=None)\n",
            "  133082116320016: TensorSpec(shape=(), dtype=tf.resource, name=None)\n",
            "  133082116315216: TensorSpec(shape=(), dtype=tf.resource, name=None)\n",
            "  133082116321360: TensorSpec(shape=(), dtype=tf.resource, name=None)\n",
            "  133082116322512: TensorSpec(shape=(), dtype=tf.resource, name=None)\n",
            "  133082116319056: TensorSpec(shape=(), dtype=tf.resource, name=None)\n",
            "  133082116321936: TensorSpec(shape=(), dtype=tf.resource, name=None)\n",
            "  133082116317136: TensorSpec(shape=(), dtype=tf.resource, name=None)\n",
            "  133082116324816: TensorSpec(shape=(), dtype=tf.resource, name=None)\n",
            "  133082116322128: TensorSpec(shape=(), dtype=tf.resource, name=None)\n",
            "  133082116324048: TensorSpec(shape=(), dtype=tf.resource, name=None)\n",
            "  133082116324240: TensorSpec(shape=(), dtype=tf.resource, name=None)\n",
            "  133082116320592: TensorSpec(shape=(), dtype=tf.resource, name=None)\n",
            "  133082116325200: TensorSpec(shape=(), dtype=tf.resource, name=None)\n",
            "  133082116320976: TensorSpec(shape=(), dtype=tf.resource, name=None)\n",
            "  133082116767824: TensorSpec(shape=(), dtype=tf.resource, name=None)\n",
            "  133082116323472: TensorSpec(shape=(), dtype=tf.resource, name=None)\n",
            "  133082116322704: TensorSpec(shape=(), dtype=tf.resource, name=None)\n",
            "  133082116769552: TensorSpec(shape=(), dtype=tf.resource, name=None)\n",
            "  133082116769936: TensorSpec(shape=(), dtype=tf.resource, name=None)\n",
            "  133082116770320: TensorSpec(shape=(), dtype=tf.resource, name=None)\n",
            "  133082116770128: TensorSpec(shape=(), dtype=tf.resource, name=None)\n",
            "  133082116768784: TensorSpec(shape=(), dtype=tf.resource, name=None)\n",
            "  133082116771472: TensorSpec(shape=(), dtype=tf.resource, name=None)\n",
            "  133082116771856: TensorSpec(shape=(), dtype=tf.resource, name=None)\n",
            "  133082116772240: TensorSpec(shape=(), dtype=tf.resource, name=None)\n",
            "  133082116772048: TensorSpec(shape=(), dtype=tf.resource, name=None)\n",
            "  133082116768208: TensorSpec(shape=(), dtype=tf.resource, name=None)\n",
            "  133082116773392: TensorSpec(shape=(), dtype=tf.resource, name=None)\n",
            "  133082116773776: TensorSpec(shape=(), dtype=tf.resource, name=None)\n",
            "  133082116774160: TensorSpec(shape=(), dtype=tf.resource, name=None)\n",
            "  133082116773968: TensorSpec(shape=(), dtype=tf.resource, name=None)\n",
            "  133082116769168: TensorSpec(shape=(), dtype=tf.resource, name=None)\n",
            "  133082116775312: TensorSpec(shape=(), dtype=tf.resource, name=None)\n",
            "  133082116775696: TensorSpec(shape=(), dtype=tf.resource, name=None)\n",
            "  133082116776080: TensorSpec(shape=(), dtype=tf.resource, name=None)\n",
            "  133082116775888: TensorSpec(shape=(), dtype=tf.resource, name=None)\n",
            "  133082116771088: TensorSpec(shape=(), dtype=tf.resource, name=None)\n",
            "  133082116777232: TensorSpec(shape=(), dtype=tf.resource, name=None)\n",
            "  133082116777616: TensorSpec(shape=(), dtype=tf.resource, name=None)\n",
            "  133082116778000: TensorSpec(shape=(), dtype=tf.resource, name=None)\n",
            "  133082116777808: TensorSpec(shape=(), dtype=tf.resource, name=None)\n",
            "  133082116773008: TensorSpec(shape=(), dtype=tf.resource, name=None)\n",
            "  133082116779152: TensorSpec(shape=(), dtype=tf.resource, name=None)\n",
            "  133082116779536: TensorSpec(shape=(), dtype=tf.resource, name=None)\n",
            "  133082116779920: TensorSpec(shape=(), dtype=tf.resource, name=None)\n",
            "  133082116779728: TensorSpec(shape=(), dtype=tf.resource, name=None)\n",
            "  133082116774928: TensorSpec(shape=(), dtype=tf.resource, name=None)\n",
            "  133082116781072: TensorSpec(shape=(), dtype=tf.resource, name=None)\n",
            "  133082116781456: TensorSpec(shape=(), dtype=tf.resource, name=None)\n",
            "  133082116781840: TensorSpec(shape=(), dtype=tf.resource, name=None)\n",
            "  133082116781648: TensorSpec(shape=(), dtype=tf.resource, name=None)\n",
            "  133082116776848: TensorSpec(shape=(), dtype=tf.resource, name=None)\n",
            "  133082116782992: TensorSpec(shape=(), dtype=tf.resource, name=None)\n",
            "  133082116782608: TensorSpec(shape=(), dtype=tf.resource, name=None)\n",
            "  133082116780688: TensorSpec(shape=(), dtype=tf.resource, name=None)\n",
            "  133082116783568: TensorSpec(shape=(), dtype=tf.resource, name=None)\n",
            "  133082116778768: TensorSpec(shape=(), dtype=tf.resource, name=None)\n",
            "  133082116782224: TensorSpec(shape=(), dtype=tf.resource, name=None)\n",
            "  133082115081424: TensorSpec(shape=(), dtype=tf.resource, name=None)\n",
            "  133082115080272: TensorSpec(shape=(), dtype=tf.resource, name=None)\n",
            "  133082115081616: TensorSpec(shape=(), dtype=tf.resource, name=None)\n",
            "  133082115080464: TensorSpec(shape=(), dtype=tf.resource, name=None)\n",
            "  133082115082960: TensorSpec(shape=(), dtype=tf.resource, name=None)\n",
            "  133082115083344: TensorSpec(shape=(), dtype=tf.resource, name=None)\n",
            "  133082115083728: TensorSpec(shape=(), dtype=tf.resource, name=None)\n",
            "  133082115083536: TensorSpec(shape=(), dtype=tf.resource, name=None)\n",
            "  133082115081808: TensorSpec(shape=(), dtype=tf.resource, name=None)\n",
            "  133082115084880: TensorSpec(shape=(), dtype=tf.resource, name=None)\n",
            "  133082115085264: TensorSpec(shape=(), dtype=tf.resource, name=None)\n",
            "  133082115085648: TensorSpec(shape=(), dtype=tf.resource, name=None)\n",
            "  133082115085456: TensorSpec(shape=(), dtype=tf.resource, name=None)\n",
            "  133082115081040: TensorSpec(shape=(), dtype=tf.resource, name=None)\n",
            "  133082115087376: TensorSpec(shape=(), dtype=tf.resource, name=None)\n",
            "  133082115080656: TensorSpec(shape=(), dtype=tf.resource, name=None)\n",
            "  133082115087184: TensorSpec(shape=(), dtype=tf.resource, name=None)\n",
            "  133082115086800: TensorSpec(shape=(), dtype=tf.resource, name=None)\n",
            "  133082115086992: TensorSpec(shape=(), dtype=tf.resource, name=None)\n",
            "  133082115089872: TensorSpec(shape=(), dtype=tf.resource, name=None)\n"
          ]
        },
        {
          "output_type": "stream",
          "name": "stderr",
          "text": [
            "/usr/local/lib/python3.11/dist-packages/tensorflow/lite/python/convert.py:997: UserWarning: Statistics for quantized inputs were expected, but not specified; continuing anyway.\n",
            "  warnings.warn(\n"
          ]
        }
      ],
      "source": [
        "def representative_dataset():\n",
        "  for label in LABELS:\n",
        "    label_folder = os.path.join('cat_dog/dataset/test_set', label)\n",
        "    for file_name in os.listdir(label_folder):\n",
        "      file_path = os.path.join(label_folder, file_name)\n",
        "      img = keras.utils.load_img(file_path, target_size=(INPUT_SIZE, INPUT_SIZE))\n",
        "      array = keras.utils.img_to_array(img)\n",
        "      yield [np.array([array / 255.0])]\n",
        "\n",
        "# Convert the tflite.\n",
        "converter = lite.TFLiteConverter.from_keras_model(model)\n",
        "converter._experimental_disable_per_channel_quantization_for_dense_layers = True\n",
        "converter.optimizations = [lite.Optimize.DEFAULT]\n",
        "converter.representative_dataset = representative_dataset\n",
        "converter.target_spec.supported_ops = [lite.OpsSet.TFLITE_BUILTINS_INT8]\n",
        "converter.inference_input_type = tf.int8\n",
        "converter.inference_output_type = tf.int8\n",
        "tflite_quant_model = converter.convert()\n",
        "\n",
        "# Save the model.\n",
        "with open('trained.tflite', 'wb') as f:\n",
        "  f.write(tflite_quant_model)"
      ]
    },
    {
      "cell_type": "markdown",
      "metadata": {
        "id": "79I1bWyyH9cv"
      },
      "source": [
        "## Succeed\n",
        "\n",
        "Copy trained.tflite to OpenMV4 H7 Plus, run this code in OpenMV4 H7 Plus: https://github.com/SingTown/openmv_tensorflow_training_scripts/blob/main/mobilenet_v2/main.py"
      ]
    },
    {
      "cell_type": "code",
      "source": [
        "from google.colab import files\n",
        "files.download('trained.tflite')"
      ],
      "metadata": {
        "colab": {
          "base_uri": "https://localhost:8080/",
          "height": 17
        },
        "id": "sJiO53bVgNVu",
        "outputId": "d1c5a712-dee1-461e-efb7-9fa2405e5598"
      },
      "execution_count": 8,
      "outputs": [
        {
          "output_type": "display_data",
          "data": {
            "text/plain": [
              "<IPython.core.display.Javascript object>"
            ],
            "application/javascript": [
              "\n",
              "    async function download(id, filename, size) {\n",
              "      if (!google.colab.kernel.accessAllowed) {\n",
              "        return;\n",
              "      }\n",
              "      const div = document.createElement('div');\n",
              "      const label = document.createElement('label');\n",
              "      label.textContent = `Downloading \"${filename}\": `;\n",
              "      div.appendChild(label);\n",
              "      const progress = document.createElement('progress');\n",
              "      progress.max = size;\n",
              "      div.appendChild(progress);\n",
              "      document.body.appendChild(div);\n",
              "\n",
              "      const buffers = [];\n",
              "      let downloaded = 0;\n",
              "\n",
              "      const channel = await google.colab.kernel.comms.open(id);\n",
              "      // Send a message to notify the kernel that we're ready.\n",
              "      channel.send({})\n",
              "\n",
              "      for await (const message of channel.messages) {\n",
              "        // Send a message to notify the kernel that we're ready.\n",
              "        channel.send({})\n",
              "        if (message.buffers) {\n",
              "          for (const buffer of message.buffers) {\n",
              "            buffers.push(buffer);\n",
              "            downloaded += buffer.byteLength;\n",
              "            progress.value = downloaded;\n",
              "          }\n",
              "        }\n",
              "      }\n",
              "      const blob = new Blob(buffers, {type: 'application/binary'});\n",
              "      const a = document.createElement('a');\n",
              "      a.href = window.URL.createObjectURL(blob);\n",
              "      a.download = filename;\n",
              "      div.appendChild(a);\n",
              "      a.click();\n",
              "      div.remove();\n",
              "    }\n",
              "  "
            ]
          },
          "metadata": {}
        },
        {
          "output_type": "display_data",
          "data": {
            "text/plain": [
              "<IPython.core.display.Javascript object>"
            ],
            "application/javascript": [
              "download(\"download_b11d13a2-d9e2-4081-a6cb-83d5dce58348\", \"trained.tflite\", 617896)"
            ]
          },
          "metadata": {}
        }
      ]
    }
  ],
  "metadata": {
    "colab": {
      "provenance": [],
      "include_colab_link": true
    },
    "kernelspec": {
      "display_name": "Python 3",
      "name": "python3"
    },
    "language_info": {
      "name": "python"
    }
  },
  "nbformat": 4,
  "nbformat_minor": 0
}