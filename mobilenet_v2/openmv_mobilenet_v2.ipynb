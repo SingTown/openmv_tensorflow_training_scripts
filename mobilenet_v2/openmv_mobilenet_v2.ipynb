{
  "cells": [
    {
      "cell_type": "markdown",
      "metadata": {
        "id": "view-in-github",
        "colab_type": "text"
      },
      "source": [
        "<a href=\"https://colab.research.google.com/github/SingTown/openmv_tensorflow_training_scripts/blob/main/mobilenet_v2/openmv_mobilenet_v2.ipynb\" target=\"_parent\"><img src=\"https://colab.research.google.com/assets/colab-badge.svg\" alt=\"Open In Colab\"/></a>"
      ]
    },
    {
      "cell_type": "markdown",
      "metadata": {
        "id": "d6CEOrWoWLG8"
      },
      "source": [
        "# Train MobilenetV2 and Save to OpenMV\n",
        "\n",
        "This Code is for TensorFlow 2 and Keras 3"
      ]
    },
    {
      "cell_type": "markdown",
      "metadata": {
        "id": "zgYMJFPRWGI5"
      },
      "source": [
        "## Download Cats vs Dogs dataset from github\n"
      ]
    },
    {
      "cell_type": "code",
      "execution_count": 1,
      "metadata": {
        "colab": {
          "base_uri": "https://localhost:8080/"
        },
        "id": "xFwlZAzEWaLR",
        "outputId": "a9410e70-e50c-4b69-f257-dd1a6aac9d3b"
      },
      "outputs": [
        {
          "output_type": "stream",
          "name": "stdout",
          "text": [
            "fatal: destination path 'cat_dog' already exists and is not an empty directory.\n"
          ]
        }
      ],
      "source": [
        "!git clone --branch master --depth=1 https://github.com/haritha91/Cats-Dogs-Classifier---Keras.git cat_dog"
      ]
    },
    {
      "cell_type": "code",
      "execution_count": 2,
      "metadata": {
        "id": "W4gluAgGWfbP"
      },
      "outputs": [],
      "source": [
        "import tensorflow as tf\n",
        "import numpy as np\n",
        "import keras\n",
        "import os\n",
        "from keras import layers\n",
        "from tensorflow import data as tf_data\n",
        "from tensorflow import lite\n",
        "\n",
        "CLASS_NUM = 2 # dog and cat\n",
        "INPUT_SIZE = 96 #image size is 96 * 96 *3\n",
        "LABELS = [\"cats\", \"dogs\"]"
      ]
    },
    {
      "cell_type": "markdown",
      "source": [
        "# Clean image"
      ],
      "metadata": {
        "id": "rVuzC35ecsg-"
      }
    },
    {
      "cell_type": "code",
      "source": [
        "image_extensions = ['.jpg', '.jpeg', '.png', '.gif', '.bmp', '.tiff']\n",
        "def image_clean(directory):\n",
        "    for dirpath, _, filenames in os.walk(directory):\n",
        "        for filename in filenames:\n",
        "            file_path = os.path.join(dirpath, filename)\n",
        "            _, ext = os.path.splitext(filename)\n",
        "            if ext.lower() not in image_extensions:\n",
        "                os.remove(file_path)\n",
        "                print(f\"Deleted: {file_path}\")\n",
        "\n",
        "image_clean('cat_dog/dataset/training_set')\n",
        "image_clean('cat_dog/dataset/test_set')"
      ],
      "metadata": {
        "id": "ODJKXolncq9f"
      },
      "execution_count": 3,
      "outputs": []
    },
    {
      "cell_type": "markdown",
      "source": [
        "## Load dataset"
      ],
      "metadata": {
        "id": "BsDiafZphEZ-"
      }
    },
    {
      "cell_type": "code",
      "execution_count": 4,
      "metadata": {
        "id": "I9LKDHKgWhAB"
      },
      "outputs": [],
      "source": [
        "data_augmentation_layers = [\n",
        "    layers.RandomFlip(\"horizontal\"),\n",
        "    layers.RandomRotation(0.1),\n",
        "    layers.RandomZoom(0.1),\n",
        "    layers.RandomContrast(0.1),\n",
        "]\n",
        "\n",
        "def data_augmentation(images):\n",
        "    for layer in data_augmentation_layers:\n",
        "        images = layer(images)\n",
        "    return images\n",
        "\n",
        "def load_training_data():\n",
        "    train_ds, val_ds = keras.utils.image_dataset_from_directory(\n",
        "        \"cat_dog/dataset/training_set\",\n",
        "        validation_split=0.2,\n",
        "        subset=\"both\",\n",
        "        seed=1337,\n",
        "        shuffle=True,\n",
        "        image_size=(INPUT_SIZE, INPUT_SIZE),\n",
        "        batch_size=32,\n",
        "        label_mode=\"categorical\",\n",
        "        class_names=LABELS,\n",
        "    )\n",
        "    train_ds = train_ds.map(\n",
        "        lambda img, label: (data_augmentation(img)/127.5 - 1, label),\n",
        "        num_parallel_calls=tf_data.AUTOTUNE,\n",
        "    )\n",
        "    val_ds = val_ds.map(\n",
        "        lambda img, label: (img/127.5 - 1, label),\n",
        "        num_parallel_calls=tf_data.AUTOTUNE,\n",
        "    )\n",
        "\n",
        "    # Prefetching samples in GPU memory helps maximize GPU utilization.\n",
        "    train_ds = train_ds.prefetch(tf_data.AUTOTUNE)\n",
        "    val_ds = val_ds.prefetch(tf_data.AUTOTUNE)\n",
        "    return train_ds, val_ds"
      ]
    },
    {
      "cell_type": "markdown",
      "metadata": {
        "id": "7xc0UswWW2CI"
      },
      "source": [
        "## Define Model\n",
        "\n",
        "alpha=0.35 for lower size"
      ]
    },
    {
      "cell_type": "code",
      "execution_count": 5,
      "metadata": {
        "id": "6oCUM3g9W4Zo"
      },
      "outputs": [],
      "source": [
        "def build_model():\n",
        "    input_shape = (INPUT_SIZE, INPUT_SIZE, 3)\n",
        "    inputs = layers.Input(shape=input_shape)\n",
        "\n",
        "    model = keras.applications.MobileNetV2(\n",
        "        alpha=0.35,\n",
        "        include_top=False,\n",
        "        input_shape=input_shape,\n",
        "        input_tensor=inputs,\n",
        "    )\n",
        "    # Freeze the pretrained weights\n",
        "    model.trainable = False\n",
        "\n",
        "    # Rebuild top\n",
        "    x = layers.GlobalAveragePooling2D(name=\"avg_pool\")(model.output)\n",
        "    x = layers.BatchNormalization()(x)\n",
        "\n",
        "    x = layers.Dropout(0.1, name=\"top_dropout\")(x)\n",
        "    outputs = layers.Dense(len(LABELS), activation=\"softmax\", name=\"pred\")(x)\n",
        "\n",
        "    # Compile\n",
        "    model = keras.Model(inputs, outputs, name=\"MobileNetV2\")\n",
        "    optimizer = keras.optimizers.Adam(learning_rate=0.001)\n",
        "    model.compile(\n",
        "        optimizer=optimizer, loss=\"categorical_crossentropy\", metrics=[\"accuracy\"]\n",
        "    )\n",
        "    return model"
      ]
    },
    {
      "cell_type": "markdown",
      "metadata": {
        "id": "Xzjg_Z5_XBwW"
      },
      "source": [
        "## Train model\n",
        "After 3 epoches, accuracy is about 91%"
      ]
    },
    {
      "cell_type": "code",
      "execution_count": 6,
      "metadata": {
        "colab": {
          "base_uri": "https://localhost:8080/"
        },
        "id": "RvZ1SA0LXFKy",
        "outputId": "e6e8d56e-9fad-4656-d3bb-914f599e03d6"
      },
      "outputs": [
        {
          "output_type": "stream",
          "name": "stdout",
          "text": [
            "Found 8000 files belonging to 2 classes.\n",
            "Using 6400 files for training.\n",
            "Using 1600 files for validation.\n",
            "Downloading data from https://storage.googleapis.com/tensorflow/keras-applications/mobilenet_v2/mobilenet_v2_weights_tf_dim_ordering_tf_kernels_0.35_96_no_top.h5\n",
            "\u001b[1m2019640/2019640\u001b[0m \u001b[32m━━━━━━━━━━━━━━━━━━━━\u001b[0m\u001b[37m\u001b[0m \u001b[1m1s\u001b[0m 1us/step\n",
            "Epoch 1/3\n",
            "\u001b[1m200/200\u001b[0m \u001b[32m━━━━━━━━━━━━━━━━━━━━\u001b[0m\u001b[37m\u001b[0m \u001b[1m37s\u001b[0m 103ms/step - accuracy: 0.7843 - loss: 0.5114 - val_accuracy: 0.8975 - val_loss: 0.2496\n",
            "Epoch 2/3\n",
            "\u001b[1m200/200\u001b[0m \u001b[32m━━━━━━━━━━━━━━━━━━━━\u001b[0m\u001b[37m\u001b[0m \u001b[1m34s\u001b[0m 87ms/step - accuracy: 0.8538 - loss: 0.3372 - val_accuracy: 0.9056 - val_loss: 0.2421\n",
            "Epoch 3/3\n",
            "\u001b[1m200/200\u001b[0m \u001b[32m━━━━━━━━━━━━━━━━━━━━\u001b[0m\u001b[37m\u001b[0m \u001b[1m17s\u001b[0m 85ms/step - accuracy: 0.8539 - loss: 0.3435 - val_accuracy: 0.9087 - val_loss: 0.2424\n"
          ]
        },
        {
          "output_type": "execute_result",
          "data": {
            "text/plain": [
              "<keras.src.callbacks.history.History at 0x7f560aeb3f90>"
            ]
          },
          "metadata": {},
          "execution_count": 6
        }
      ],
      "source": [
        "train_ds, val_ds = load_training_data()\n",
        "model = build_model()\n",
        "model.fit(\n",
        "    train_ds,\n",
        "    epochs=3,\n",
        "    validation_data=val_ds,\n",
        ")"
      ]
    },
    {
      "cell_type": "markdown",
      "metadata": {
        "id": "LMw0ywl2XNd3"
      },
      "source": [
        "## Full Integer Quantization\n",
        "\n",
        "ref: https://www.tensorflow.org/lite/performance/post_training_quantization#full_integer_quantization"
      ]
    },
    {
      "cell_type": "code",
      "execution_count": 7,
      "metadata": {
        "colab": {
          "base_uri": "https://localhost:8080/"
        },
        "id": "TXdcxbctXkYi",
        "outputId": "748fc5aa-e89d-4571-e7a2-9986a3421964"
      },
      "outputs": [
        {
          "output_type": "stream",
          "name": "stdout",
          "text": [
            "Saved artifact at '/tmp/tmp897vb8iv'. The following endpoints are available:\n",
            "\n",
            "* Endpoint 'serve'\n",
            "  args_0 (POSITIONAL_ONLY): TensorSpec(shape=(None, 96, 96, 3), dtype=tf.float32, name='keras_tensor')\n",
            "Output Type:\n",
            "  TensorSpec(shape=(None, 2), dtype=tf.float32, name=None)\n",
            "Captures:\n",
            "  140007511514896: TensorSpec(shape=(), dtype=tf.resource, name=None)\n",
            "  140007511513552: TensorSpec(shape=(), dtype=tf.resource, name=None)\n",
            "  140007511515088: TensorSpec(shape=(), dtype=tf.resource, name=None)\n",
            "  140007511515472: TensorSpec(shape=(), dtype=tf.resource, name=None)\n",
            "  140007511516432: TensorSpec(shape=(), dtype=tf.resource, name=None)\n",
            "  140007511515664: TensorSpec(shape=(), dtype=tf.resource, name=None)\n",
            "  140007511517392: TensorSpec(shape=(), dtype=tf.resource, name=None)\n",
            "  140007511515856: TensorSpec(shape=(), dtype=tf.resource, name=None)\n",
            "  140007511517584: TensorSpec(shape=(), dtype=tf.resource, name=None)\n",
            "  140007511517200: TensorSpec(shape=(), dtype=tf.resource, name=None)\n",
            "  140007511519696: TensorSpec(shape=(), dtype=tf.resource, name=None)\n",
            "  140007511519888: TensorSpec(shape=(), dtype=tf.resource, name=None)\n",
            "  140007511518544: TensorSpec(shape=(), dtype=tf.resource, name=None)\n",
            "  140007511520080: TensorSpec(shape=(), dtype=tf.resource, name=None)\n",
            "  140007511520464: TensorSpec(shape=(), dtype=tf.resource, name=None)\n",
            "  140007511521424: TensorSpec(shape=(), dtype=tf.resource, name=None)\n",
            "  140007443120592: TensorSpec(shape=(), dtype=tf.resource, name=None)\n",
            "  140007443121168: TensorSpec(shape=(), dtype=tf.resource, name=None)\n",
            "  140007511522768: TensorSpec(shape=(), dtype=tf.resource, name=None)\n",
            "  140007511522384: TensorSpec(shape=(), dtype=tf.resource, name=None)\n",
            "  140007443122128: TensorSpec(shape=(), dtype=tf.resource, name=None)\n",
            "  140007443121744: TensorSpec(shape=(), dtype=tf.resource, name=None)\n",
            "  140007443120400: TensorSpec(shape=(), dtype=tf.resource, name=None)\n",
            "  140007443122320: TensorSpec(shape=(), dtype=tf.resource, name=None)\n",
            "  140007443120784: TensorSpec(shape=(), dtype=tf.resource, name=None)\n",
            "  140007443124432: TensorSpec(shape=(), dtype=tf.resource, name=None)\n",
            "  140007443124816: TensorSpec(shape=(), dtype=tf.resource, name=None)\n",
            "  140007443125200: TensorSpec(shape=(), dtype=tf.resource, name=None)\n",
            "  140007443125008: TensorSpec(shape=(), dtype=tf.resource, name=None)\n",
            "  140007443120976: TensorSpec(shape=(), dtype=tf.resource, name=None)\n",
            "  140007443126352: TensorSpec(shape=(), dtype=tf.resource, name=None)\n",
            "  140007443126736: TensorSpec(shape=(), dtype=tf.resource, name=None)\n",
            "  140007443127120: TensorSpec(shape=(), dtype=tf.resource, name=None)\n",
            "  140007443126928: TensorSpec(shape=(), dtype=tf.resource, name=None)\n",
            "  140007443123280: TensorSpec(shape=(), dtype=tf.resource, name=None)\n",
            "  140007443128080: TensorSpec(shape=(), dtype=tf.resource, name=None)\n",
            "  140007443128464: TensorSpec(shape=(), dtype=tf.resource, name=None)\n",
            "  140007443128848: TensorSpec(shape=(), dtype=tf.resource, name=None)\n",
            "  140007443128656: TensorSpec(shape=(), dtype=tf.resource, name=None)\n",
            "  140007443124048: TensorSpec(shape=(), dtype=tf.resource, name=None)\n",
            "  140007443126544: TensorSpec(shape=(), dtype=tf.resource, name=None)\n",
            "  140007443130576: TensorSpec(shape=(), dtype=tf.resource, name=None)\n",
            "  140007443130960: TensorSpec(shape=(), dtype=tf.resource, name=None)\n",
            "  140007443130768: TensorSpec(shape=(), dtype=tf.resource, name=None)\n",
            "  140007443127312: TensorSpec(shape=(), dtype=tf.resource, name=None)\n",
            "  140007443129616: TensorSpec(shape=(), dtype=tf.resource, name=None)\n",
            "  140007443132688: TensorSpec(shape=(), dtype=tf.resource, name=None)\n",
            "  140007443133072: TensorSpec(shape=(), dtype=tf.resource, name=None)\n",
            "  140007443132880: TensorSpec(shape=(), dtype=tf.resource, name=None)\n",
            "  140007443130000: TensorSpec(shape=(), dtype=tf.resource, name=None)\n",
            "  140007443134224: TensorSpec(shape=(), dtype=tf.resource, name=None)\n",
            "  140007443134608: TensorSpec(shape=(), dtype=tf.resource, name=None)\n",
            "  140007443134992: TensorSpec(shape=(), dtype=tf.resource, name=None)\n",
            "  140007443134800: TensorSpec(shape=(), dtype=tf.resource, name=None)\n",
            "  140007443131728: TensorSpec(shape=(), dtype=tf.resource, name=None)\n",
            "  140007443136144: TensorSpec(shape=(), dtype=tf.resource, name=None)\n",
            "  140007443130192: TensorSpec(shape=(), dtype=tf.resource, name=None)\n",
            "  140007443399120: TensorSpec(shape=(), dtype=tf.resource, name=None)\n",
            "  140007443135760: TensorSpec(shape=(), dtype=tf.resource, name=None)\n",
            "  140007443133840: TensorSpec(shape=(), dtype=tf.resource, name=None)\n",
            "  140007443400272: TensorSpec(shape=(), dtype=tf.resource, name=None)\n",
            "  140007443400656: TensorSpec(shape=(), dtype=tf.resource, name=None)\n",
            "  140007443401040: TensorSpec(shape=(), dtype=tf.resource, name=None)\n",
            "  140007443400848: TensorSpec(shape=(), dtype=tf.resource, name=None)\n",
            "  140007443399504: TensorSpec(shape=(), dtype=tf.resource, name=None)\n",
            "  140007443402192: TensorSpec(shape=(), dtype=tf.resource, name=None)\n",
            "  140007443402576: TensorSpec(shape=(), dtype=tf.resource, name=None)\n",
            "  140007443402960: TensorSpec(shape=(), dtype=tf.resource, name=None)\n",
            "  140007443402768: TensorSpec(shape=(), dtype=tf.resource, name=None)\n",
            "  140007443399696: TensorSpec(shape=(), dtype=tf.resource, name=None)\n",
            "  140007443404112: TensorSpec(shape=(), dtype=tf.resource, name=None)\n",
            "  140007443404496: TensorSpec(shape=(), dtype=tf.resource, name=None)\n",
            "  140007443404880: TensorSpec(shape=(), dtype=tf.resource, name=None)\n",
            "  140007443404688: TensorSpec(shape=(), dtype=tf.resource, name=None)\n",
            "  140007443398736: TensorSpec(shape=(), dtype=tf.resource, name=None)\n",
            "  140007443406032: TensorSpec(shape=(), dtype=tf.resource, name=None)\n",
            "  140007443406416: TensorSpec(shape=(), dtype=tf.resource, name=None)\n",
            "  140007443406800: TensorSpec(shape=(), dtype=tf.resource, name=None)\n",
            "  140007443406608: TensorSpec(shape=(), dtype=tf.resource, name=None)\n",
            "  140007443401808: TensorSpec(shape=(), dtype=tf.resource, name=None)\n",
            "  140007443407952: TensorSpec(shape=(), dtype=tf.resource, name=None)\n",
            "  140007443408336: TensorSpec(shape=(), dtype=tf.resource, name=None)\n",
            "  140007443408720: TensorSpec(shape=(), dtype=tf.resource, name=None)\n",
            "  140007443408528: TensorSpec(shape=(), dtype=tf.resource, name=None)\n",
            "  140007443403728: TensorSpec(shape=(), dtype=tf.resource, name=None)\n",
            "  140007443409872: TensorSpec(shape=(), dtype=tf.resource, name=None)\n",
            "  140007443410256: TensorSpec(shape=(), dtype=tf.resource, name=None)\n",
            "  140007443410640: TensorSpec(shape=(), dtype=tf.resource, name=None)\n",
            "  140007443410448: TensorSpec(shape=(), dtype=tf.resource, name=None)\n",
            "  140007443405648: TensorSpec(shape=(), dtype=tf.resource, name=None)\n",
            "  140007443411792: TensorSpec(shape=(), dtype=tf.resource, name=None)\n",
            "  140007443412176: TensorSpec(shape=(), dtype=tf.resource, name=None)\n",
            "  140007443412560: TensorSpec(shape=(), dtype=tf.resource, name=None)\n",
            "  140007443412368: TensorSpec(shape=(), dtype=tf.resource, name=None)\n",
            "  140007443407568: TensorSpec(shape=(), dtype=tf.resource, name=None)\n",
            "  140007443413712: TensorSpec(shape=(), dtype=tf.resource, name=None)\n",
            "  140007443414096: TensorSpec(shape=(), dtype=tf.resource, name=None)\n",
            "  140007443414864: TensorSpec(shape=(), dtype=tf.resource, name=None)\n",
            "  140007443414288: TensorSpec(shape=(), dtype=tf.resource, name=None)\n",
            "  140007443409488: TensorSpec(shape=(), dtype=tf.resource, name=None)\n",
            "  140007443399888: TensorSpec(shape=(), dtype=tf.resource, name=None)\n",
            "  140007443825680: TensorSpec(shape=(), dtype=tf.resource, name=None)\n",
            "  140007443824720: TensorSpec(shape=(), dtype=tf.resource, name=None)\n",
            "  140007443411408: TensorSpec(shape=(), dtype=tf.resource, name=None)\n",
            "  140007443824912: TensorSpec(shape=(), dtype=tf.resource, name=None)\n",
            "  140007443827216: TensorSpec(shape=(), dtype=tf.resource, name=None)\n",
            "  140007443827600: TensorSpec(shape=(), dtype=tf.resource, name=None)\n",
            "  140007443827984: TensorSpec(shape=(), dtype=tf.resource, name=None)\n",
            "  140007443827792: TensorSpec(shape=(), dtype=tf.resource, name=None)\n",
            "  140007443825104: TensorSpec(shape=(), dtype=tf.resource, name=None)\n",
            "  140007443829136: TensorSpec(shape=(), dtype=tf.resource, name=None)\n",
            "  140007443829520: TensorSpec(shape=(), dtype=tf.resource, name=None)\n",
            "  140007443829904: TensorSpec(shape=(), dtype=tf.resource, name=None)\n",
            "  140007443829712: TensorSpec(shape=(), dtype=tf.resource, name=None)\n",
            "  140007443826064: TensorSpec(shape=(), dtype=tf.resource, name=None)\n",
            "  140007443831056: TensorSpec(shape=(), dtype=tf.resource, name=None)\n",
            "  140007443831440: TensorSpec(shape=(), dtype=tf.resource, name=None)\n",
            "  140007443831824: TensorSpec(shape=(), dtype=tf.resource, name=None)\n",
            "  140007443831632: TensorSpec(shape=(), dtype=tf.resource, name=None)\n",
            "  140007443826832: TensorSpec(shape=(), dtype=tf.resource, name=None)\n",
            "  140007443832976: TensorSpec(shape=(), dtype=tf.resource, name=None)\n",
            "  140007443833360: TensorSpec(shape=(), dtype=tf.resource, name=None)\n",
            "  140007443833744: TensorSpec(shape=(), dtype=tf.resource, name=None)\n",
            "  140007443833552: TensorSpec(shape=(), dtype=tf.resource, name=None)\n",
            "  140007443828752: TensorSpec(shape=(), dtype=tf.resource, name=None)\n",
            "  140007443834896: TensorSpec(shape=(), dtype=tf.resource, name=None)\n",
            "  140007443835280: TensorSpec(shape=(), dtype=tf.resource, name=None)\n",
            "  140007443835664: TensorSpec(shape=(), dtype=tf.resource, name=None)\n",
            "  140007443835472: TensorSpec(shape=(), dtype=tf.resource, name=None)\n",
            "  140007443830672: TensorSpec(shape=(), dtype=tf.resource, name=None)\n",
            "  140007443836816: TensorSpec(shape=(), dtype=tf.resource, name=None)\n",
            "  140007443837200: TensorSpec(shape=(), dtype=tf.resource, name=None)\n",
            "  140007443837584: TensorSpec(shape=(), dtype=tf.resource, name=None)\n",
            "  140007443837392: TensorSpec(shape=(), dtype=tf.resource, name=None)\n",
            "  140007443832592: TensorSpec(shape=(), dtype=tf.resource, name=None)\n",
            "  140007443838736: TensorSpec(shape=(), dtype=tf.resource, name=None)\n",
            "  140007443839120: TensorSpec(shape=(), dtype=tf.resource, name=None)\n",
            "  140007443839504: TensorSpec(shape=(), dtype=tf.resource, name=None)\n",
            "  140007443839312: TensorSpec(shape=(), dtype=tf.resource, name=None)\n",
            "  140007443834512: TensorSpec(shape=(), dtype=tf.resource, name=None)\n",
            "  140007443840656: TensorSpec(shape=(), dtype=tf.resource, name=None)\n",
            "  140007443825488: TensorSpec(shape=(), dtype=tf.resource, name=None)\n",
            "  140007412236560: TensorSpec(shape=(), dtype=tf.resource, name=None)\n",
            "  140007443840272: TensorSpec(shape=(), dtype=tf.resource, name=None)\n",
            "  140007443838352: TensorSpec(shape=(), dtype=tf.resource, name=None)\n",
            "  140007412237904: TensorSpec(shape=(), dtype=tf.resource, name=None)\n",
            "  140007412238288: TensorSpec(shape=(), dtype=tf.resource, name=None)\n",
            "  140007412238672: TensorSpec(shape=(), dtype=tf.resource, name=None)\n",
            "  140007412238480: TensorSpec(shape=(), dtype=tf.resource, name=None)\n",
            "  140007412236752: TensorSpec(shape=(), dtype=tf.resource, name=None)\n",
            "  140007412239824: TensorSpec(shape=(), dtype=tf.resource, name=None)\n",
            "  140007412240208: TensorSpec(shape=(), dtype=tf.resource, name=None)\n",
            "  140007412240592: TensorSpec(shape=(), dtype=tf.resource, name=None)\n",
            "  140007412240400: TensorSpec(shape=(), dtype=tf.resource, name=None)\n",
            "  140007412237328: TensorSpec(shape=(), dtype=tf.resource, name=None)\n",
            "  140007412241744: TensorSpec(shape=(), dtype=tf.resource, name=None)\n",
            "  140007412242128: TensorSpec(shape=(), dtype=tf.resource, name=None)\n",
            "  140007412242512: TensorSpec(shape=(), dtype=tf.resource, name=None)\n",
            "  140007412242320: TensorSpec(shape=(), dtype=tf.resource, name=None)\n",
            "  140007412237136: TensorSpec(shape=(), dtype=tf.resource, name=None)\n",
            "  140007412243664: TensorSpec(shape=(), dtype=tf.resource, name=None)\n",
            "  140007412244048: TensorSpec(shape=(), dtype=tf.resource, name=None)\n",
            "  140007412244432: TensorSpec(shape=(), dtype=tf.resource, name=None)\n",
            "  140007412244240: TensorSpec(shape=(), dtype=tf.resource, name=None)\n",
            "  140007412239440: TensorSpec(shape=(), dtype=tf.resource, name=None)\n",
            "  140007412245584: TensorSpec(shape=(), dtype=tf.resource, name=None)\n",
            "  140007412245968: TensorSpec(shape=(), dtype=tf.resource, name=None)\n",
            "  140007412246352: TensorSpec(shape=(), dtype=tf.resource, name=None)\n",
            "  140007412246160: TensorSpec(shape=(), dtype=tf.resource, name=None)\n",
            "  140007412241360: TensorSpec(shape=(), dtype=tf.resource, name=None)\n",
            "  140007412247504: TensorSpec(shape=(), dtype=tf.resource, name=None)\n",
            "  140007412247888: TensorSpec(shape=(), dtype=tf.resource, name=None)\n",
            "  140007412248272: TensorSpec(shape=(), dtype=tf.resource, name=None)\n",
            "  140007412248080: TensorSpec(shape=(), dtype=tf.resource, name=None)\n",
            "  140007412243280: TensorSpec(shape=(), dtype=tf.resource, name=None)\n",
            "  140007412249424: TensorSpec(shape=(), dtype=tf.resource, name=None)\n",
            "  140007412249808: TensorSpec(shape=(), dtype=tf.resource, name=None)\n",
            "  140007412250192: TensorSpec(shape=(), dtype=tf.resource, name=None)\n",
            "  140007412250000: TensorSpec(shape=(), dtype=tf.resource, name=None)\n",
            "  140007412245200: TensorSpec(shape=(), dtype=tf.resource, name=None)\n",
            "  140007412251344: TensorSpec(shape=(), dtype=tf.resource, name=None)\n",
            "  140007412251728: TensorSpec(shape=(), dtype=tf.resource, name=None)\n",
            "  140007412252496: TensorSpec(shape=(), dtype=tf.resource, name=None)\n",
            "  140007412251920: TensorSpec(shape=(), dtype=tf.resource, name=None)\n",
            "  140007412247120: TensorSpec(shape=(), dtype=tf.resource, name=None)\n",
            "  140007412237520: TensorSpec(shape=(), dtype=tf.resource, name=None)\n",
            "  140007412614160: TensorSpec(shape=(), dtype=tf.resource, name=None)\n",
            "  140007412613200: TensorSpec(shape=(), dtype=tf.resource, name=None)\n",
            "  140007412249040: TensorSpec(shape=(), dtype=tf.resource, name=None)\n",
            "  140007412614544: TensorSpec(shape=(), dtype=tf.resource, name=None)\n",
            "  140007412615696: TensorSpec(shape=(), dtype=tf.resource, name=None)\n",
            "  140007412616080: TensorSpec(shape=(), dtype=tf.resource, name=None)\n",
            "  140007412616464: TensorSpec(shape=(), dtype=tf.resource, name=None)\n",
            "  140007412616272: TensorSpec(shape=(), dtype=tf.resource, name=None)\n",
            "  140007412613584: TensorSpec(shape=(), dtype=tf.resource, name=None)\n",
            "  140007412617616: TensorSpec(shape=(), dtype=tf.resource, name=None)\n",
            "  140007412618000: TensorSpec(shape=(), dtype=tf.resource, name=None)\n",
            "  140007412618384: TensorSpec(shape=(), dtype=tf.resource, name=None)\n",
            "  140007412618192: TensorSpec(shape=(), dtype=tf.resource, name=None)\n",
            "  140007412613776: TensorSpec(shape=(), dtype=tf.resource, name=None)\n",
            "  140007412619536: TensorSpec(shape=(), dtype=tf.resource, name=None)\n",
            "  140007412619920: TensorSpec(shape=(), dtype=tf.resource, name=None)\n",
            "  140007412620304: TensorSpec(shape=(), dtype=tf.resource, name=None)\n",
            "  140007412620112: TensorSpec(shape=(), dtype=tf.resource, name=None)\n",
            "  140007412615312: TensorSpec(shape=(), dtype=tf.resource, name=None)\n",
            "  140007412621456: TensorSpec(shape=(), dtype=tf.resource, name=None)\n",
            "  140007412621840: TensorSpec(shape=(), dtype=tf.resource, name=None)\n",
            "  140007412622224: TensorSpec(shape=(), dtype=tf.resource, name=None)\n",
            "  140007412622032: TensorSpec(shape=(), dtype=tf.resource, name=None)\n",
            "  140007412617232: TensorSpec(shape=(), dtype=tf.resource, name=None)\n",
            "  140007412623376: TensorSpec(shape=(), dtype=tf.resource, name=None)\n",
            "  140007412623760: TensorSpec(shape=(), dtype=tf.resource, name=None)\n",
            "  140007412624144: TensorSpec(shape=(), dtype=tf.resource, name=None)\n",
            "  140007412623952: TensorSpec(shape=(), dtype=tf.resource, name=None)\n",
            "  140007412619152: TensorSpec(shape=(), dtype=tf.resource, name=None)\n",
            "  140007412625296: TensorSpec(shape=(), dtype=tf.resource, name=None)\n",
            "  140007412625680: TensorSpec(shape=(), dtype=tf.resource, name=None)\n",
            "  140007412626064: TensorSpec(shape=(), dtype=tf.resource, name=None)\n",
            "  140007412625872: TensorSpec(shape=(), dtype=tf.resource, name=None)\n",
            "  140007412621072: TensorSpec(shape=(), dtype=tf.resource, name=None)\n",
            "  140007412627216: TensorSpec(shape=(), dtype=tf.resource, name=None)\n",
            "  140007412627600: TensorSpec(shape=(), dtype=tf.resource, name=None)\n",
            "  140007412627984: TensorSpec(shape=(), dtype=tf.resource, name=None)\n",
            "  140007412627792: TensorSpec(shape=(), dtype=tf.resource, name=None)\n",
            "  140007412622992: TensorSpec(shape=(), dtype=tf.resource, name=None)\n",
            "  140007412629136: TensorSpec(shape=(), dtype=tf.resource, name=None)\n",
            "  140007412614352: TensorSpec(shape=(), dtype=tf.resource, name=None)\n",
            "  140007413055952: TensorSpec(shape=(), dtype=tf.resource, name=None)\n",
            "  140007412628752: TensorSpec(shape=(), dtype=tf.resource, name=None)\n",
            "  140007412626832: TensorSpec(shape=(), dtype=tf.resource, name=None)\n",
            "  140007413057104: TensorSpec(shape=(), dtype=tf.resource, name=None)\n",
            "  140007413057488: TensorSpec(shape=(), dtype=tf.resource, name=None)\n",
            "  140007413057872: TensorSpec(shape=(), dtype=tf.resource, name=None)\n",
            "  140007413057680: TensorSpec(shape=(), dtype=tf.resource, name=None)\n",
            "  140007413056336: TensorSpec(shape=(), dtype=tf.resource, name=None)\n",
            "  140007413059024: TensorSpec(shape=(), dtype=tf.resource, name=None)\n",
            "  140007413059408: TensorSpec(shape=(), dtype=tf.resource, name=None)\n",
            "  140007413059792: TensorSpec(shape=(), dtype=tf.resource, name=None)\n",
            "  140007413059600: TensorSpec(shape=(), dtype=tf.resource, name=None)\n",
            "  140007413056528: TensorSpec(shape=(), dtype=tf.resource, name=None)\n",
            "  140007413060944: TensorSpec(shape=(), dtype=tf.resource, name=None)\n",
            "  140007413061328: TensorSpec(shape=(), dtype=tf.resource, name=None)\n",
            "  140007413061712: TensorSpec(shape=(), dtype=tf.resource, name=None)\n",
            "  140007413061520: TensorSpec(shape=(), dtype=tf.resource, name=None)\n",
            "  140007413055760: TensorSpec(shape=(), dtype=tf.resource, name=None)\n",
            "  140007413062864: TensorSpec(shape=(), dtype=tf.resource, name=None)\n",
            "  140007413063248: TensorSpec(shape=(), dtype=tf.resource, name=None)\n",
            "  140007413063632: TensorSpec(shape=(), dtype=tf.resource, name=None)\n",
            "  140007413063440: TensorSpec(shape=(), dtype=tf.resource, name=None)\n",
            "  140007413058640: TensorSpec(shape=(), dtype=tf.resource, name=None)\n",
            "  140007413064784: TensorSpec(shape=(), dtype=tf.resource, name=None)\n",
            "  140007413065168: TensorSpec(shape=(), dtype=tf.resource, name=None)\n",
            "  140007413065552: TensorSpec(shape=(), dtype=tf.resource, name=None)\n",
            "  140007413065360: TensorSpec(shape=(), dtype=tf.resource, name=None)\n",
            "  140007413060560: TensorSpec(shape=(), dtype=tf.resource, name=None)\n",
            "  140007413066704: TensorSpec(shape=(), dtype=tf.resource, name=None)\n",
            "  140007413067088: TensorSpec(shape=(), dtype=tf.resource, name=None)\n",
            "  140007413067472: TensorSpec(shape=(), dtype=tf.resource, name=None)\n",
            "  140007413067280: TensorSpec(shape=(), dtype=tf.resource, name=None)\n",
            "  140007413062480: TensorSpec(shape=(), dtype=tf.resource, name=None)\n",
            "  140007413069392: TensorSpec(shape=(), dtype=tf.resource, name=None)\n",
            "  140007413064400: TensorSpec(shape=(), dtype=tf.resource, name=None)\n",
            "  140007413069200: TensorSpec(shape=(), dtype=tf.resource, name=None)\n",
            "  140007413066320: TensorSpec(shape=(), dtype=tf.resource, name=None)\n",
            "  140007413069008: TensorSpec(shape=(), dtype=tf.resource, name=None)\n",
            "  140007413071504: TensorSpec(shape=(), dtype=tf.resource, name=None)\n"
          ]
        },
        {
          "output_type": "stream",
          "name": "stderr",
          "text": [
            "/usr/local/lib/python3.11/dist-packages/tensorflow/lite/python/convert.py:997: UserWarning: Statistics for quantized inputs were expected, but not specified; continuing anyway.\n",
            "  warnings.warn(\n"
          ]
        }
      ],
      "source": [
        "def representative_dataset():\n",
        "    for label in LABELS:\n",
        "        label_folder = os.path.join('cat_dog/dataset/test_set', label)\n",
        "        for file_name in os.listdir(label_folder):\n",
        "            file_path = os.path.join(label_folder, file_name)\n",
        "            img = keras.utils.load_img(file_path, target_size=(INPUT_SIZE, INPUT_SIZE))\n",
        "            array = keras.utils.img_to_array(img)\n",
        "            yield [np.array([array/127.5-1])]\n",
        "\n",
        "# Convert the tflite.\n",
        "converter = lite.TFLiteConverter.from_keras_model(model)\n",
        "converter._experimental_disable_per_channel_quantization_for_dense_layers = True\n",
        "converter.optimizations = [lite.Optimize.DEFAULT]\n",
        "converter.representative_dataset = representative_dataset\n",
        "converter.target_spec.supported_ops = [lite.OpsSet.TFLITE_BUILTINS_INT8]\n",
        "converter.inference_input_type = tf.int8\n",
        "converter.inference_output_type = tf.int8\n",
        "tflite_quant_model = converter.convert()\n",
        "\n",
        "# Save the model.\n",
        "with open('trained.tflite', 'wb') as f:\n",
        "    f.write(tflite_quant_model)"
      ]
    },
    {
      "cell_type": "markdown",
      "metadata": {
        "id": "79I1bWyyH9cv"
      },
      "source": [
        "## Succeed\n",
        "\n",
        "Copy trained.tflite to OpenMV4 H7 Plus, run this code in OpenMV4 H7 Plus: https://github.com/SingTown/openmv_tensorflow_training_scripts/blob/main/mobilenet_v2/main.py"
      ]
    },
    {
      "cell_type": "code",
      "source": [
        "from google.colab import files\n",
        "files.download('trained.tflite')"
      ],
      "metadata": {
        "colab": {
          "base_uri": "https://localhost:8080/",
          "height": 17
        },
        "id": "sJiO53bVgNVu",
        "outputId": "8c8d0b3b-e3eb-40a7-e572-8ae80c31cd70"
      },
      "execution_count": 8,
      "outputs": [
        {
          "output_type": "display_data",
          "data": {
            "text/plain": [
              "<IPython.core.display.Javascript object>"
            ],
            "application/javascript": [
              "\n",
              "    async function download(id, filename, size) {\n",
              "      if (!google.colab.kernel.accessAllowed) {\n",
              "        return;\n",
              "      }\n",
              "      const div = document.createElement('div');\n",
              "      const label = document.createElement('label');\n",
              "      label.textContent = `Downloading \"${filename}\": `;\n",
              "      div.appendChild(label);\n",
              "      const progress = document.createElement('progress');\n",
              "      progress.max = size;\n",
              "      div.appendChild(progress);\n",
              "      document.body.appendChild(div);\n",
              "\n",
              "      const buffers = [];\n",
              "      let downloaded = 0;\n",
              "\n",
              "      const channel = await google.colab.kernel.comms.open(id);\n",
              "      // Send a message to notify the kernel that we're ready.\n",
              "      channel.send({})\n",
              "\n",
              "      for await (const message of channel.messages) {\n",
              "        // Send a message to notify the kernel that we're ready.\n",
              "        channel.send({})\n",
              "        if (message.buffers) {\n",
              "          for (const buffer of message.buffers) {\n",
              "            buffers.push(buffer);\n",
              "            downloaded += buffer.byteLength;\n",
              "            progress.value = downloaded;\n",
              "          }\n",
              "        }\n",
              "      }\n",
              "      const blob = new Blob(buffers, {type: 'application/binary'});\n",
              "      const a = document.createElement('a');\n",
              "      a.href = window.URL.createObjectURL(blob);\n",
              "      a.download = filename;\n",
              "      div.appendChild(a);\n",
              "      a.click();\n",
              "      div.remove();\n",
              "    }\n",
              "  "
            ]
          },
          "metadata": {}
        },
        {
          "output_type": "display_data",
          "data": {
            "text/plain": [
              "<IPython.core.display.Javascript object>"
            ],
            "application/javascript": [
              "download(\"download_4715f8ba-e0df-4556-8fa5-94e4531eea6f\", \"trained.tflite\", 617896)"
            ]
          },
          "metadata": {}
        }
      ]
    }
  ],
  "metadata": {
    "colab": {
      "provenance": [],
      "gpuType": "T4",
      "include_colab_link": true
    },
    "kernelspec": {
      "display_name": "Python 3",
      "name": "python3"
    },
    "language_info": {
      "name": "python"
    },
    "accelerator": "GPU"
  },
  "nbformat": 4,
  "nbformat_minor": 0
}